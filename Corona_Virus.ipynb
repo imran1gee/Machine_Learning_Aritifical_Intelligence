{
 "cells": [
  {
   "cell_type": "code",
   "execution_count": 1,
   "id": "0ca14b98",
   "metadata": {},
   "outputs": [],
   "source": [
    "import pandas as pd"
   ]
  },
  {
   "cell_type": "code",
   "execution_count": 2,
   "id": "965f7669",
   "metadata": {},
   "outputs": [
    {
     "data": {
      "text/html": [
       "<div>\n",
       "<style scoped>\n",
       "    .dataframe tbody tr th:only-of-type {\n",
       "        vertical-align: middle;\n",
       "    }\n",
       "\n",
       "    .dataframe tbody tr th {\n",
       "        vertical-align: top;\n",
       "    }\n",
       "\n",
       "    .dataframe thead th {\n",
       "        text-align: right;\n",
       "    }\n",
       "</style>\n",
       "<table border=\"1\" class=\"dataframe\">\n",
       "  <thead>\n",
       "    <tr style=\"text-align: right;\">\n",
       "      <th></th>\n",
       "      <th>patient_id</th>\n",
       "      <th>global_num</th>\n",
       "      <th>sex</th>\n",
       "      <th>birth_year</th>\n",
       "      <th>age</th>\n",
       "      <th>country</th>\n",
       "      <th>province</th>\n",
       "      <th>city</th>\n",
       "      <th>disease</th>\n",
       "      <th>infection_case</th>\n",
       "      <th>infection_order</th>\n",
       "      <th>infected_by</th>\n",
       "      <th>contact_number</th>\n",
       "      <th>symptom_onset_date</th>\n",
       "      <th>confirmed_date</th>\n",
       "      <th>released_date</th>\n",
       "      <th>deceased_date</th>\n",
       "      <th>state</th>\n",
       "    </tr>\n",
       "  </thead>\n",
       "  <tbody>\n",
       "    <tr>\n",
       "      <th>0</th>\n",
       "      <td>1000000001</td>\n",
       "      <td>2.0</td>\n",
       "      <td>male</td>\n",
       "      <td>1964.0</td>\n",
       "      <td>50s</td>\n",
       "      <td>Korea</td>\n",
       "      <td>Seoul</td>\n",
       "      <td>Gangseo-gu</td>\n",
       "      <td>NaN</td>\n",
       "      <td>overseas inflow</td>\n",
       "      <td>1.0</td>\n",
       "      <td>NaN</td>\n",
       "      <td>75.0</td>\n",
       "      <td>2020-01-22</td>\n",
       "      <td>2020-01-23</td>\n",
       "      <td>2020-02-05</td>\n",
       "      <td>NaN</td>\n",
       "      <td>released</td>\n",
       "    </tr>\n",
       "    <tr>\n",
       "      <th>1</th>\n",
       "      <td>1000000002</td>\n",
       "      <td>5.0</td>\n",
       "      <td>male</td>\n",
       "      <td>1987.0</td>\n",
       "      <td>30s</td>\n",
       "      <td>Korea</td>\n",
       "      <td>Seoul</td>\n",
       "      <td>Jungnang-gu</td>\n",
       "      <td>NaN</td>\n",
       "      <td>overseas inflow</td>\n",
       "      <td>1.0</td>\n",
       "      <td>NaN</td>\n",
       "      <td>31.0</td>\n",
       "      <td>NaN</td>\n",
       "      <td>2020-01-30</td>\n",
       "      <td>2020-03-02</td>\n",
       "      <td>NaN</td>\n",
       "      <td>released</td>\n",
       "    </tr>\n",
       "    <tr>\n",
       "      <th>2</th>\n",
       "      <td>1000000003</td>\n",
       "      <td>6.0</td>\n",
       "      <td>male</td>\n",
       "      <td>1964.0</td>\n",
       "      <td>50s</td>\n",
       "      <td>Korea</td>\n",
       "      <td>Seoul</td>\n",
       "      <td>Jongno-gu</td>\n",
       "      <td>NaN</td>\n",
       "      <td>contact with patient</td>\n",
       "      <td>2.0</td>\n",
       "      <td>2.002000e+09</td>\n",
       "      <td>17.0</td>\n",
       "      <td>NaN</td>\n",
       "      <td>2020-01-30</td>\n",
       "      <td>2020-02-19</td>\n",
       "      <td>NaN</td>\n",
       "      <td>released</td>\n",
       "    </tr>\n",
       "    <tr>\n",
       "      <th>3</th>\n",
       "      <td>1000000004</td>\n",
       "      <td>7.0</td>\n",
       "      <td>male</td>\n",
       "      <td>1991.0</td>\n",
       "      <td>20s</td>\n",
       "      <td>Korea</td>\n",
       "      <td>Seoul</td>\n",
       "      <td>Mapo-gu</td>\n",
       "      <td>NaN</td>\n",
       "      <td>overseas inflow</td>\n",
       "      <td>1.0</td>\n",
       "      <td>NaN</td>\n",
       "      <td>9.0</td>\n",
       "      <td>2020-01-26</td>\n",
       "      <td>2020-01-30</td>\n",
       "      <td>2020-02-15</td>\n",
       "      <td>NaN</td>\n",
       "      <td>released</td>\n",
       "    </tr>\n",
       "    <tr>\n",
       "      <th>4</th>\n",
       "      <td>1000000005</td>\n",
       "      <td>9.0</td>\n",
       "      <td>female</td>\n",
       "      <td>1992.0</td>\n",
       "      <td>20s</td>\n",
       "      <td>Korea</td>\n",
       "      <td>Seoul</td>\n",
       "      <td>Seongbuk-gu</td>\n",
       "      <td>NaN</td>\n",
       "      <td>contact with patient</td>\n",
       "      <td>2.0</td>\n",
       "      <td>1.000000e+09</td>\n",
       "      <td>2.0</td>\n",
       "      <td>NaN</td>\n",
       "      <td>2020-01-31</td>\n",
       "      <td>2020-02-24</td>\n",
       "      <td>NaN</td>\n",
       "      <td>released</td>\n",
       "    </tr>\n",
       "    <tr>\n",
       "      <th>5</th>\n",
       "      <td>1000000006</td>\n",
       "      <td>10.0</td>\n",
       "      <td>female</td>\n",
       "      <td>1966.0</td>\n",
       "      <td>50s</td>\n",
       "      <td>Korea</td>\n",
       "      <td>Seoul</td>\n",
       "      <td>Jongno-gu</td>\n",
       "      <td>NaN</td>\n",
       "      <td>contact with patient</td>\n",
       "      <td>3.0</td>\n",
       "      <td>1.000000e+09</td>\n",
       "      <td>43.0</td>\n",
       "      <td>NaN</td>\n",
       "      <td>2020-01-31</td>\n",
       "      <td>2020-02-19</td>\n",
       "      <td>NaN</td>\n",
       "      <td>released</td>\n",
       "    </tr>\n",
       "    <tr>\n",
       "      <th>6</th>\n",
       "      <td>1000000007</td>\n",
       "      <td>11.0</td>\n",
       "      <td>male</td>\n",
       "      <td>1995.0</td>\n",
       "      <td>20s</td>\n",
       "      <td>Korea</td>\n",
       "      <td>Seoul</td>\n",
       "      <td>Jongno-gu</td>\n",
       "      <td>NaN</td>\n",
       "      <td>contact with patient</td>\n",
       "      <td>3.0</td>\n",
       "      <td>1.000000e+09</td>\n",
       "      <td>0.0</td>\n",
       "      <td>NaN</td>\n",
       "      <td>2020-01-31</td>\n",
       "      <td>2020-02-10</td>\n",
       "      <td>NaN</td>\n",
       "      <td>released</td>\n",
       "    </tr>\n",
       "    <tr>\n",
       "      <th>7</th>\n",
       "      <td>1000000008</td>\n",
       "      <td>13.0</td>\n",
       "      <td>male</td>\n",
       "      <td>1992.0</td>\n",
       "      <td>20s</td>\n",
       "      <td>Korea</td>\n",
       "      <td>Seoul</td>\n",
       "      <td>etc</td>\n",
       "      <td>NaN</td>\n",
       "      <td>overseas inflow</td>\n",
       "      <td>1.0</td>\n",
       "      <td>NaN</td>\n",
       "      <td>0.0</td>\n",
       "      <td>NaN</td>\n",
       "      <td>2020-02-02</td>\n",
       "      <td>2020-02-24</td>\n",
       "      <td>NaN</td>\n",
       "      <td>released</td>\n",
       "    </tr>\n",
       "    <tr>\n",
       "      <th>8</th>\n",
       "      <td>1000000009</td>\n",
       "      <td>19.0</td>\n",
       "      <td>male</td>\n",
       "      <td>1983.0</td>\n",
       "      <td>30s</td>\n",
       "      <td>Korea</td>\n",
       "      <td>Seoul</td>\n",
       "      <td>Songpa-gu</td>\n",
       "      <td>NaN</td>\n",
       "      <td>overseas inflow</td>\n",
       "      <td>2.0</td>\n",
       "      <td>NaN</td>\n",
       "      <td>68.0</td>\n",
       "      <td>NaN</td>\n",
       "      <td>2020-02-05</td>\n",
       "      <td>2020-02-21</td>\n",
       "      <td>NaN</td>\n",
       "      <td>released</td>\n",
       "    </tr>\n",
       "    <tr>\n",
       "      <th>9</th>\n",
       "      <td>1000000010</td>\n",
       "      <td>21.0</td>\n",
       "      <td>female</td>\n",
       "      <td>1960.0</td>\n",
       "      <td>60s</td>\n",
       "      <td>Korea</td>\n",
       "      <td>Seoul</td>\n",
       "      <td>Seongbuk-gu</td>\n",
       "      <td>NaN</td>\n",
       "      <td>contact with patient</td>\n",
       "      <td>3.0</td>\n",
       "      <td>1.000000e+09</td>\n",
       "      <td>6.0</td>\n",
       "      <td>NaN</td>\n",
       "      <td>2020-02-05</td>\n",
       "      <td>2020-02-29</td>\n",
       "      <td>NaN</td>\n",
       "      <td>released</td>\n",
       "    </tr>\n",
       "  </tbody>\n",
       "</table>\n",
       "</div>"
      ],
      "text/plain": [
       "   patient_id  global_num     sex  birth_year  age country province  \\\n",
       "0  1000000001         2.0    male      1964.0  50s   Korea    Seoul   \n",
       "1  1000000002         5.0    male      1987.0  30s   Korea    Seoul   \n",
       "2  1000000003         6.0    male      1964.0  50s   Korea    Seoul   \n",
       "3  1000000004         7.0    male      1991.0  20s   Korea    Seoul   \n",
       "4  1000000005         9.0  female      1992.0  20s   Korea    Seoul   \n",
       "5  1000000006        10.0  female      1966.0  50s   Korea    Seoul   \n",
       "6  1000000007        11.0    male      1995.0  20s   Korea    Seoul   \n",
       "7  1000000008        13.0    male      1992.0  20s   Korea    Seoul   \n",
       "8  1000000009        19.0    male      1983.0  30s   Korea    Seoul   \n",
       "9  1000000010        21.0  female      1960.0  60s   Korea    Seoul   \n",
       "\n",
       "          city disease        infection_case  infection_order   infected_by  \\\n",
       "0   Gangseo-gu     NaN       overseas inflow              1.0           NaN   \n",
       "1  Jungnang-gu     NaN       overseas inflow              1.0           NaN   \n",
       "2    Jongno-gu     NaN  contact with patient              2.0  2.002000e+09   \n",
       "3      Mapo-gu     NaN       overseas inflow              1.0           NaN   \n",
       "4  Seongbuk-gu     NaN  contact with patient              2.0  1.000000e+09   \n",
       "5    Jongno-gu     NaN  contact with patient              3.0  1.000000e+09   \n",
       "6    Jongno-gu     NaN  contact with patient              3.0  1.000000e+09   \n",
       "7          etc     NaN       overseas inflow              1.0           NaN   \n",
       "8    Songpa-gu     NaN       overseas inflow              2.0           NaN   \n",
       "9  Seongbuk-gu     NaN  contact with patient              3.0  1.000000e+09   \n",
       "\n",
       "   contact_number symptom_onset_date confirmed_date released_date  \\\n",
       "0            75.0         2020-01-22     2020-01-23    2020-02-05   \n",
       "1            31.0                NaN     2020-01-30    2020-03-02   \n",
       "2            17.0                NaN     2020-01-30    2020-02-19   \n",
       "3             9.0         2020-01-26     2020-01-30    2020-02-15   \n",
       "4             2.0                NaN     2020-01-31    2020-02-24   \n",
       "5            43.0                NaN     2020-01-31    2020-02-19   \n",
       "6             0.0                NaN     2020-01-31    2020-02-10   \n",
       "7             0.0                NaN     2020-02-02    2020-02-24   \n",
       "8            68.0                NaN     2020-02-05    2020-02-21   \n",
       "9             6.0                NaN     2020-02-05    2020-02-29   \n",
       "\n",
       "  deceased_date     state  \n",
       "0           NaN  released  \n",
       "1           NaN  released  \n",
       "2           NaN  released  \n",
       "3           NaN  released  \n",
       "4           NaN  released  \n",
       "5           NaN  released  \n",
       "6           NaN  released  \n",
       "7           NaN  released  \n",
       "8           NaN  released  \n",
       "9           NaN  released  "
      ]
     },
     "execution_count": 2,
     "metadata": {},
     "output_type": "execute_result"
    }
   ],
   "source": [
    "df = pd.read_csv('PatientInfo.csv')\n",
    "df.head(10)"
   ]
  },
  {
   "cell_type": "code",
   "execution_count": 3,
   "id": "0b95f6aa",
   "metadata": {},
   "outputs": [
    {
     "data": {
      "text/plain": [
       "(2218, 18)"
      ]
     },
     "execution_count": 3,
     "metadata": {},
     "output_type": "execute_result"
    }
   ],
   "source": [
    "df.shape"
   ]
  },
  {
   "cell_type": "code",
   "execution_count": 4,
   "id": "bc29dc88",
   "metadata": {},
   "outputs": [
    {
     "data": {
      "text/plain": [
       "Index(['patient_id', 'global_num', 'sex', 'birth_year', 'age', 'country',\n",
       "       'province', 'city', 'disease', 'infection_case', 'infection_order',\n",
       "       'infected_by', 'contact_number', 'symptom_onset_date', 'confirmed_date',\n",
       "       'released_date', 'deceased_date', 'state'],\n",
       "      dtype='object')"
      ]
     },
     "execution_count": 4,
     "metadata": {},
     "output_type": "execute_result"
    }
   ],
   "source": [
    "df.columns"
   ]
  },
  {
   "cell_type": "code",
   "execution_count": 5,
   "id": "5eea6aa3",
   "metadata": {},
   "outputs": [
    {
     "data": {
      "text/plain": [
       "2218"
      ]
     },
     "execution_count": 5,
     "metadata": {},
     "output_type": "execute_result"
    }
   ],
   "source": [
    "# Number of Rows\n",
    "df.shape[0]"
   ]
  },
  {
   "cell_type": "code",
   "execution_count": 6,
   "id": "ae34d708",
   "metadata": {},
   "outputs": [
    {
     "data": {
      "text/plain": [
       "18"
      ]
     },
     "execution_count": 6,
     "metadata": {},
     "output_type": "execute_result"
    }
   ],
   "source": [
    "# Number of columns\n",
    "df.shape[1]"
   ]
  },
  {
   "cell_type": "code",
   "execution_count": 7,
   "id": "c3fa445a",
   "metadata": {},
   "outputs": [],
   "source": [
    "# Count the null values for individual columns\n",
    "t = pd.DataFrame(df.isnull().sum().sort_values(ascending=False)).reset_index()"
   ]
  },
  {
   "cell_type": "code",
   "execution_count": 8,
   "id": "393c8450",
   "metadata": {},
   "outputs": [
    {
     "data": {
      "text/html": [
       "<div>\n",
       "<style scoped>\n",
       "    .dataframe tbody tr th:only-of-type {\n",
       "        vertical-align: middle;\n",
       "    }\n",
       "\n",
       "    .dataframe tbody tr th {\n",
       "        vertical-align: top;\n",
       "    }\n",
       "\n",
       "    .dataframe thead th {\n",
       "        text-align: right;\n",
       "    }\n",
       "</style>\n",
       "<table border=\"1\" class=\"dataframe\">\n",
       "  <thead>\n",
       "    <tr style=\"text-align: right;\">\n",
       "      <th></th>\n",
       "      <th>VarName</th>\n",
       "      <th>NullCount</th>\n",
       "    </tr>\n",
       "  </thead>\n",
       "  <tbody>\n",
       "    <tr>\n",
       "      <th>0</th>\n",
       "      <td>disease</td>\n",
       "      <td>2199</td>\n",
       "    </tr>\n",
       "    <tr>\n",
       "      <th>1</th>\n",
       "      <td>deceased_date</td>\n",
       "      <td>2186</td>\n",
       "    </tr>\n",
       "    <tr>\n",
       "      <th>2</th>\n",
       "      <td>infection_order</td>\n",
       "      <td>2176</td>\n",
       "    </tr>\n",
       "    <tr>\n",
       "      <th>3</th>\n",
       "      <td>symptom_onset_date</td>\n",
       "      <td>2025</td>\n",
       "    </tr>\n",
       "    <tr>\n",
       "      <th>4</th>\n",
       "      <td>released_date</td>\n",
       "      <td>1995</td>\n",
       "    </tr>\n",
       "    <tr>\n",
       "      <th>5</th>\n",
       "      <td>contact_number</td>\n",
       "      <td>1807</td>\n",
       "    </tr>\n",
       "    <tr>\n",
       "      <th>6</th>\n",
       "      <td>infected_by</td>\n",
       "      <td>1749</td>\n",
       "    </tr>\n",
       "    <tr>\n",
       "      <th>7</th>\n",
       "      <td>infection_case</td>\n",
       "      <td>1055</td>\n",
       "    </tr>\n",
       "    <tr>\n",
       "      <th>8</th>\n",
       "      <td>global_num</td>\n",
       "      <td>904</td>\n",
       "    </tr>\n",
       "    <tr>\n",
       "      <th>9</th>\n",
       "      <td>birth_year</td>\n",
       "      <td>454</td>\n",
       "    </tr>\n",
       "    <tr>\n",
       "      <th>10</th>\n",
       "      <td>age</td>\n",
       "      <td>261</td>\n",
       "    </tr>\n",
       "    <tr>\n",
       "      <th>11</th>\n",
       "      <td>sex</td>\n",
       "      <td>145</td>\n",
       "    </tr>\n",
       "    <tr>\n",
       "      <th>12</th>\n",
       "      <td>confirmed_date</td>\n",
       "      <td>141</td>\n",
       "    </tr>\n",
       "    <tr>\n",
       "      <th>13</th>\n",
       "      <td>state</td>\n",
       "      <td>88</td>\n",
       "    </tr>\n",
       "    <tr>\n",
       "      <th>14</th>\n",
       "      <td>city</td>\n",
       "      <td>65</td>\n",
       "    </tr>\n",
       "  </tbody>\n",
       "</table>\n",
       "</div>"
      ],
      "text/plain": [
       "               VarName  NullCount\n",
       "0              disease       2199\n",
       "1        deceased_date       2186\n",
       "2      infection_order       2176\n",
       "3   symptom_onset_date       2025\n",
       "4        released_date       1995\n",
       "5       contact_number       1807\n",
       "6          infected_by       1749\n",
       "7       infection_case       1055\n",
       "8           global_num        904\n",
       "9           birth_year        454\n",
       "10                 age        261\n",
       "11                 sex        145\n",
       "12      confirmed_date        141\n",
       "13               state         88\n",
       "14                city         65"
      ]
     },
     "execution_count": 8,
     "metadata": {},
     "output_type": "execute_result"
    }
   ],
   "source": [
    "t.columns = ['VarName', 'NullCount']\n",
    "t[(t['NullCount']>0)]"
   ]
  },
  {
   "cell_type": "code",
   "execution_count": 9,
   "id": "0bef8587",
   "metadata": {},
   "outputs": [
    {
     "data": {
      "text/plain": [
       "isolated    1791\n",
       "released     307\n",
       "deceased      32\n",
       "Name: state, dtype: int64"
      ]
     },
     "execution_count": 9,
     "metadata": {},
     "output_type": "execute_result"
    }
   ],
   "source": [
    "# Count the number of states\n",
    "df.state.value_counts()"
   ]
  },
  {
   "cell_type": "code",
   "execution_count": 10,
   "id": "4d702575",
   "metadata": {},
   "outputs": [],
   "source": [
    "# Add an age column\n",
    "from datetime import date\n",
    "today = date.today()\n",
    "df['n_age'] = today.year - df['birth_year']"
   ]
  },
  {
   "cell_type": "code",
   "execution_count": 11,
   "id": "9b2c44e6",
   "metadata": {},
   "outputs": [
    {
     "data": {
      "text/plain": [
       "patient_id               0\n",
       "global_num             904\n",
       "sex                    145\n",
       "birth_year             454\n",
       "age                    261\n",
       "country                  0\n",
       "province                 0\n",
       "city                    65\n",
       "disease               2199\n",
       "infection_case        1055\n",
       "infection_order       2176\n",
       "infected_by           1749\n",
       "contact_number        1807\n",
       "symptom_onset_date    2025\n",
       "confirmed_date         141\n",
       "released_date         1995\n",
       "deceased_date         2186\n",
       "state                   88\n",
       "n_age                  454\n",
       "dtype: int64"
      ]
     },
     "execution_count": 11,
     "metadata": {},
     "output_type": "execute_result"
    }
   ],
   "source": [
    "# Print the missing values by columns\n",
    "df.isna().sum()"
   ]
  },
  {
   "cell_type": "code",
   "execution_count": 12,
   "id": "c72da957",
   "metadata": {},
   "outputs": [
    {
     "name": "stdout",
     "output_type": "stream",
     "text": [
      "<class 'pandas.core.frame.DataFrame'>\n",
      "RangeIndex: 2218 entries, 0 to 2217\n",
      "Data columns (total 19 columns):\n",
      " #   Column              Non-Null Count  Dtype  \n",
      "---  ------              --------------  -----  \n",
      " 0   patient_id          2218 non-null   int64  \n",
      " 1   global_num          1314 non-null   float64\n",
      " 2   sex                 2073 non-null   object \n",
      " 3   birth_year          1764 non-null   float64\n",
      " 4   age                 1957 non-null   object \n",
      " 5   country             2218 non-null   object \n",
      " 6   province            2218 non-null   object \n",
      " 7   city                2153 non-null   object \n",
      " 8   disease             19 non-null     object \n",
      " 9   infection_case      1163 non-null   object \n",
      " 10  infection_order     42 non-null     float64\n",
      " 11  infected_by         469 non-null    float64\n",
      " 12  contact_number      411 non-null    float64\n",
      " 13  symptom_onset_date  193 non-null    object \n",
      " 14  confirmed_date      2077 non-null   object \n",
      " 15  released_date       223 non-null    object \n",
      " 16  deceased_date       32 non-null     object \n",
      " 17  state               2130 non-null   object \n",
      " 18  n_age               1764 non-null   float64\n",
      "dtypes: float64(6), int64(1), object(12)\n",
      "memory usage: 329.4+ KB\n"
     ]
    }
   ],
   "source": [
    "# Extract the data information\n",
    "df.info()"
   ]
  },
  {
   "cell_type": "code",
   "execution_count": 13,
   "id": "81350534",
   "metadata": {},
   "outputs": [
    {
     "data": {
      "text/plain": [
       "array([nan, True], dtype=object)"
      ]
     },
     "execution_count": 13,
     "metadata": {},
     "output_type": "execute_result"
    }
   ],
   "source": [
    "# Extract the information about disease column\n",
    "df.disease.unique()"
   ]
  },
  {
   "cell_type": "code",
   "execution_count": 14,
   "id": "8d6cc3cb",
   "metadata": {},
   "outputs": [],
   "source": [
    "# Replace the nan with 0 and True with 1\n",
    "import numpy as np\n",
    "df.disease = df.disease.replace({True: 1, np.nan: 0})"
   ]
  },
  {
   "cell_type": "code",
   "execution_count": 15,
   "id": "f728465e",
   "metadata": {},
   "outputs": [
    {
     "data": {
      "text/plain": [
       "array([0., 1.])"
      ]
     },
     "execution_count": 15,
     "metadata": {},
     "output_type": "execute_result"
    }
   ],
   "source": [
    "# See again disease column\n",
    "df.disease.unique()"
   ]
  },
  {
   "cell_type": "markdown",
   "id": "afc0aede",
   "metadata": {},
   "source": [
    "Fill null values in the following columns with their mean: 'global_number','birth_year','infection_order','infected_by'and 'contact_number'"
   ]
  },
  {
   "cell_type": "code",
   "execution_count": 16,
   "id": "98d3967b",
   "metadata": {},
   "outputs": [],
   "source": [
    "fillna_mean_features = ['global_num','birth_year','infection_order','infected_by','contact_number', 'n_age']\n",
    "for feature in fillna_mean_features:\n",
    "    df[feature].fillna(df[feature].mean(), inplace=True)"
   ]
  },
  {
   "cell_type": "code",
   "execution_count": 17,
   "id": "2cc514cf",
   "metadata": {},
   "outputs": [
    {
     "data": {
      "text/plain": [
       "patient_id               0\n",
       "global_num               0\n",
       "sex                    145\n",
       "birth_year               0\n",
       "age                    261\n",
       "country                  0\n",
       "province                 0\n",
       "city                    65\n",
       "disease                  0\n",
       "infection_case        1055\n",
       "infection_order          0\n",
       "infected_by              0\n",
       "contact_number           0\n",
       "symptom_onset_date    2025\n",
       "confirmed_date         141\n",
       "released_date         1995\n",
       "deceased_date         2186\n",
       "state                   88\n",
       "n_age                    0\n",
       "dtype: int64"
      ]
     },
     "execution_count": 17,
     "metadata": {},
     "output_type": "execute_result"
    }
   ],
   "source": [
    "#Lets see the missing values now\n",
    "df.isna().sum()"
   ]
  },
  {
   "cell_type": "code",
   "execution_count": 18,
   "id": "4fb8b846",
   "metadata": {},
   "outputs": [
    {
     "data": {
      "text/plain": [
       "array(['male', 'female', nan], dtype=object)"
      ]
     },
     "execution_count": 18,
     "metadata": {},
     "output_type": "execute_result"
    }
   ],
   "source": [
    "# Explore the sex column\n",
    "df.sex.unique()"
   ]
  },
  {
   "cell_type": "code",
   "execution_count": 19,
   "id": "9c98fbb4",
   "metadata": {},
   "outputs": [],
   "source": [
    "# Remove nan\n",
    "df = df[df.sex.notna()]"
   ]
  },
  {
   "cell_type": "code",
   "execution_count": 20,
   "id": "109e0362",
   "metadata": {},
   "outputs": [
    {
     "data": {
      "text/plain": [
       "array(['male', 'female'], dtype=object)"
      ]
     },
     "execution_count": 20,
     "metadata": {},
     "output_type": "execute_result"
    }
   ],
   "source": [
    "df.sex.unique()"
   ]
  },
  {
   "cell_type": "code",
   "execution_count": 21,
   "id": "60e2289e",
   "metadata": {},
   "outputs": [
    {
     "data": {
      "text/plain": [
       "array(['50s', '30s', '20s', '60s', '80s', '70s', '40s', '10s', '90s',\n",
       "       '0s', nan, '100s'], dtype=object)"
      ]
     },
     "execution_count": 21,
     "metadata": {},
     "output_type": "execute_result"
    }
   ],
   "source": [
    "#Explore the age column\n",
    "df.age.unique()"
   ]
  },
  {
   "cell_type": "code",
   "execution_count": 22,
   "id": "020ec6d6",
   "metadata": {},
   "outputs": [],
   "source": [
    "#Remove nan of age row and data\n",
    "df = df[df.age.notna()]"
   ]
  },
  {
   "cell_type": "code",
   "execution_count": 23,
   "id": "cb7f6741",
   "metadata": {},
   "outputs": [
    {
     "data": {
      "text/plain": [
       "array(['50s', '30s', '20s', '60s', '80s', '70s', '40s', '10s', '90s',\n",
       "       '0s', '100s'], dtype=object)"
      ]
     },
     "execution_count": 23,
     "metadata": {},
     "output_type": "execute_result"
    }
   ],
   "source": [
    "# Age unique values\n",
    "df.age.unique()"
   ]
  },
  {
   "cell_type": "code",
   "execution_count": 24,
   "id": "32d5f2e4",
   "metadata": {},
   "outputs": [
    {
     "data": {
      "text/plain": [
       "62"
      ]
     },
     "execution_count": 24,
     "metadata": {},
     "output_type": "execute_result"
    }
   ],
   "source": [
    "#In column city the number of time nan appears\n",
    "df.city.isna().sum()"
   ]
  },
  {
   "cell_type": "code",
   "execution_count": 25,
   "id": "a6909135",
   "metadata": {},
   "outputs": [
    {
     "data": {
      "text/plain": [
       "(1955, 19)"
      ]
     },
     "execution_count": 25,
     "metadata": {},
     "output_type": "execute_result"
    }
   ],
   "source": [
    "df.shape"
   ]
  },
  {
   "cell_type": "code",
   "execution_count": 26,
   "id": "bdad8c82",
   "metadata": {},
   "outputs": [],
   "source": [
    "df = df[df.city.notna()]"
   ]
  },
  {
   "cell_type": "code",
   "execution_count": 27,
   "id": "08027b89",
   "metadata": {},
   "outputs": [
    {
     "data": {
      "text/plain": [
       "(1893, 19)"
      ]
     },
     "execution_count": 27,
     "metadata": {},
     "output_type": "execute_result"
    }
   ],
   "source": [
    "df.shape"
   ]
  },
  {
   "cell_type": "code",
   "execution_count": 28,
   "id": "9f273259",
   "metadata": {},
   "outputs": [
    {
     "data": {
      "text/plain": [
       "-62"
      ]
     },
     "execution_count": 28,
     "metadata": {},
     "output_type": "execute_result"
    }
   ],
   "source": [
    "1893-1955"
   ]
  },
  {
   "cell_type": "code",
   "execution_count": 29,
   "id": "6c0997d2",
   "metadata": {},
   "outputs": [
    {
     "data": {
      "text/plain": [
       "Index(['patient_id', 'global_num', 'sex', 'birth_year', 'age', 'country',\n",
       "       'province', 'city', 'disease', 'infection_case', 'infection_order',\n",
       "       'infected_by', 'contact_number', 'symptom_onset_date', 'confirmed_date',\n",
       "       'released_date', 'deceased_date', 'state', 'n_age'],\n",
       "      dtype='object')"
      ]
     },
     "execution_count": 29,
     "metadata": {},
     "output_type": "execute_result"
    }
   ],
   "source": [
    "# See the columns in df\n",
    "df.columns"
   ]
  },
  {
   "cell_type": "code",
   "execution_count": 30,
   "id": "ccea51df",
   "metadata": {},
   "outputs": [],
   "source": [
    "# Drop disease column\n",
    "df.drop('disease', axis = 'columns', inplace = True)"
   ]
  },
  {
   "cell_type": "code",
   "execution_count": 31,
   "id": "07a22ef2",
   "metadata": {},
   "outputs": [
    {
     "data": {
      "text/plain": [
       "array(['overseas inflow', 'contact with patient', 'Seongdong-gu APT',\n",
       "       'etc', \"Eunpyeong St. Mary's Hospital\", 'Shincheonji Church',\n",
       "       'Dongan Church', 'Guro-gu Call Center', 'Onchun Church',\n",
       "       'Cheongdo Daenam Hospital', 'Suyeong-gu Kindergarten', nan,\n",
       "       'Ministry of Oceans and Fisheries', 'gym facility in Cheonan',\n",
       "       'gym facility in Sejong', 'River of Grace Community Church',\n",
       "       'Pilgrimage to Israel'], dtype=object)"
      ]
     },
     "execution_count": 31,
     "metadata": {},
     "output_type": "execute_result"
    }
   ],
   "source": [
    "# Exploring the infection_case columns\n",
    "df['infection_case'].unique()"
   ]
  },
  {
   "cell_type": "code",
   "execution_count": 32,
   "id": "0154bfaa",
   "metadata": {},
   "outputs": [
    {
     "data": {
      "text/plain": [
       "17"
      ]
     },
     "execution_count": 32,
     "metadata": {},
     "output_type": "execute_result"
    }
   ],
   "source": [
    "at = df['infection_case'].unique()\n",
    "len(at)"
   ]
  },
  {
   "cell_type": "code",
   "execution_count": 33,
   "id": "8ef916d2",
   "metadata": {},
   "outputs": [
    {
     "data": {
      "text/plain": [
       "872"
      ]
     },
     "execution_count": 33,
     "metadata": {},
     "output_type": "execute_result"
    }
   ],
   "source": [
    "df.infection_case.isna().sum()"
   ]
  },
  {
   "cell_type": "code",
   "execution_count": 34,
   "id": "664f0ab2",
   "metadata": {},
   "outputs": [],
   "source": [
    "df.infection_case = df.infection_case.replace(np.nan, 'etc')\n"
   ]
  },
  {
   "cell_type": "code",
   "execution_count": 35,
   "id": "da538357",
   "metadata": {},
   "outputs": [
    {
     "data": {
      "text/plain": [
       "16"
      ]
     },
     "execution_count": 35,
     "metadata": {},
     "output_type": "execute_result"
    }
   ],
   "source": [
    "at = df['infection_case'].unique()\n",
    "len(at)"
   ]
  },
  {
   "cell_type": "code",
   "execution_count": 36,
   "id": "611fdccc",
   "metadata": {},
   "outputs": [
    {
     "data": {
      "text/plain": [
       "array(['overseas inflow', 'contact with patient', 'Seongdong-gu APT',\n",
       "       'etc', \"Eunpyeong St. Mary's Hospital\", 'Shincheonji Church',\n",
       "       'Dongan Church', 'Guro-gu Call Center', 'Onchun Church',\n",
       "       'Cheongdo Daenam Hospital', 'Suyeong-gu Kindergarten',\n",
       "       'Ministry of Oceans and Fisheries', 'gym facility in Cheonan',\n",
       "       'gym facility in Sejong', 'River of Grace Community Church',\n",
       "       'Pilgrimage to Israel'], dtype=object)"
      ]
     },
     "execution_count": 36,
     "metadata": {},
     "output_type": "execute_result"
    }
   ],
   "source": [
    "df['infection_case'].unique()"
   ]
  },
  {
   "cell_type": "code",
   "execution_count": 37,
   "id": "defb86e2",
   "metadata": {},
   "outputs": [
    {
     "data": {
      "text/plain": [
       "array(['2020-01-22', nan, '2020-01-26', '2020-02-06', '2020-02-11',\n",
       "       '2020-02-21', '2020-02-19', '2020-02-24', '2020-02-25',\n",
       "       '2020-02-23', '2020-02-26', '2020-02-20', '2020-02-27',\n",
       "       '2020-02-18', '2020-03-01', '2020-03-02', '2020-03-06',\n",
       "       '2020-03-04', '2020-02-28', '2020-03-05', '2020-03-07',\n",
       "       '2020-02-29', '2020-03-08', '2020-03-09', '2020-03-10',\n",
       "       '2020-03-11', '2020-03-12', '2020-03-15', '2020-03-13',\n",
       "       '2020-03-16', '2020-02-15', '2020-01-19', '2020-01-31',\n",
       "       '2020-02-22', '2020-03-03', '2020-03-17', '2020-02-13'],\n",
       "      dtype=object)"
      ]
     },
     "execution_count": 37,
     "metadata": {},
     "output_type": "execute_result"
    }
   ],
   "source": [
    "# Explore symptom_onset_date\n",
    "df.symptom_onset_date.unique()"
   ]
  },
  {
   "cell_type": "code",
   "execution_count": 38,
   "id": "586dcece",
   "metadata": {},
   "outputs": [],
   "source": [
    "# Replace nan with 0\n",
    "df['symptom_onset_date'] = df.symptom_onset_date.replace(np.nan,0)"
   ]
  },
  {
   "cell_type": "code",
   "execution_count": 39,
   "id": "a44ddb62",
   "metadata": {},
   "outputs": [
    {
     "data": {
      "text/plain": [
       "array(['2020-01-23', '2020-01-30', '2020-01-31', '2020-02-02',\n",
       "       '2020-02-05', '2020-02-06', '2020-02-07', '2020-02-16',\n",
       "       '2020-02-19', '2020-02-20', '2020-02-21', '2020-02-22',\n",
       "       '2020-02-23', '2020-02-26', '2020-02-24', '2020-02-25',\n",
       "       '2020-02-27', '2020-02-28', '2020-02-29', '2020-03-01',\n",
       "       '2020-03-02', '2020-03-04', '2020-03-05', '2020-03-06',\n",
       "       '2020-03-07', '2020-03-08', '2020-03-09', '2020-03-10',\n",
       "       '2020-03-11', '2020-03-12', '2020-03-13', '2020-03-14',\n",
       "       '2020-03-15', '2020-03-16', '2020-03-17', '2020-03-18',\n",
       "       '2020-03-03', '2020-02-18', '2020-01-20', '2020-01-26',\n",
       "       '2020-01-27', '2020-02-01', '2020-02-09', '2020-02-10', nan],\n",
       "      dtype=object)"
      ]
     },
     "execution_count": 39,
     "metadata": {},
     "output_type": "execute_result"
    }
   ],
   "source": [
    "#Explore confirmed_data column\n",
    "df.confirmed_date.unique()"
   ]
  },
  {
   "cell_type": "code",
   "execution_count": 40,
   "id": "315f3121",
   "metadata": {},
   "outputs": [],
   "source": [
    "df = df[df.confirmed_date.notna()]"
   ]
  },
  {
   "cell_type": "code",
   "execution_count": 41,
   "id": "b43a7c67",
   "metadata": {},
   "outputs": [
    {
     "data": {
      "text/plain": [
       "array(['2020-02-05', '2020-03-02', '2020-02-19', '2020-02-15',\n",
       "       '2020-02-24', '2020-02-10', '2020-02-21', '2020-02-29',\n",
       "       '2020-02-27', nan, '2020-03-12', '2020-03-11', '2020-03-01',\n",
       "       '2020-03-08', '2020-03-14', '2020-03-04', '2020-03-19',\n",
       "       '2020-03-10', '2020-03-17', '2020-03-03', '2020-03-13',\n",
       "       '2020-03-18', '2020-02-06', '2020-03-09', '2020-03-16',\n",
       "       '2020-03-05', '2020-03-15', '2020-02-12', '2020-02-09',\n",
       "       '2020-02-18', '2020-02-17', '2020-03-07', '2020-03-06',\n",
       "       '2020-02-26'], dtype=object)"
      ]
     },
     "execution_count": 41,
     "metadata": {},
     "output_type": "execute_result"
    }
   ],
   "source": [
    "# Explore relased data\n",
    "df.released_date.unique()"
   ]
  },
  {
   "cell_type": "code",
   "execution_count": 42,
   "id": "a0634c41",
   "metadata": {},
   "outputs": [
    {
     "data": {
      "text/plain": [
       "Index(['patient_id', 'global_num', 'sex', 'birth_year', 'age', 'country',\n",
       "       'province', 'city', 'infection_case', 'infection_order', 'infected_by',\n",
       "       'contact_number', 'symptom_onset_date', 'confirmed_date',\n",
       "       'released_date', 'deceased_date', 'state', 'n_age'],\n",
       "      dtype='object')"
      ]
     },
     "execution_count": 42,
     "metadata": {},
     "output_type": "execute_result"
    }
   ],
   "source": [
    "df.columns"
   ]
  },
  {
   "cell_type": "code",
   "execution_count": 43,
   "id": "27c5b681",
   "metadata": {},
   "outputs": [],
   "source": [
    "df['released_date'] = df['released_date'].replace(np.nan, 0)"
   ]
  },
  {
   "cell_type": "code",
   "execution_count": 44,
   "id": "92597813",
   "metadata": {},
   "outputs": [
    {
     "data": {
      "text/plain": [
       "array(['2020-02-05', '2020-03-02', '2020-02-19', '2020-02-15',\n",
       "       '2020-02-24', '2020-02-10', '2020-02-21', '2020-02-29',\n",
       "       '2020-02-27', 0, '2020-03-12', '2020-03-11', '2020-03-01',\n",
       "       '2020-03-08', '2020-03-14', '2020-03-04', '2020-03-19',\n",
       "       '2020-03-10', '2020-03-17', '2020-03-03', '2020-03-13',\n",
       "       '2020-03-18', '2020-02-06', '2020-03-09', '2020-03-16',\n",
       "       '2020-03-05', '2020-03-15', '2020-02-12', '2020-02-09',\n",
       "       '2020-02-18', '2020-02-17', '2020-03-07', '2020-03-06',\n",
       "       '2020-02-26'], dtype=object)"
      ]
     },
     "execution_count": 44,
     "metadata": {},
     "output_type": "execute_result"
    }
   ],
   "source": [
    "df.released_date.unique()"
   ]
  },
  {
   "cell_type": "code",
   "execution_count": 45,
   "id": "8b4075c8",
   "metadata": {},
   "outputs": [
    {
     "data": {
      "text/plain": [
       "array([nan, '2020-03-19', '2020-02-23', '2020-02-25', '2020-03-04',\n",
       "       '2020-03-07', '2020-02-19', '2020-02-24', '2020-02-21'],\n",
       "      dtype=object)"
      ]
     },
     "execution_count": 45,
     "metadata": {},
     "output_type": "execute_result"
    }
   ],
   "source": [
    "#Exploring deceased date\n",
    "df.deceased_date.unique()"
   ]
  },
  {
   "cell_type": "code",
   "execution_count": 46,
   "id": "58e2a22a",
   "metadata": {},
   "outputs": [],
   "source": [
    "df['deceased_date'] = df.deceased_date.replace(np.nan,0)"
   ]
  },
  {
   "cell_type": "code",
   "execution_count": 47,
   "id": "8f44c141",
   "metadata": {},
   "outputs": [
    {
     "data": {
      "text/plain": [
       "array([0, '2020-03-19', '2020-02-23', '2020-02-25', '2020-03-04',\n",
       "       '2020-03-07', '2020-02-19', '2020-02-24', '2020-02-21'],\n",
       "      dtype=object)"
      ]
     },
     "execution_count": 47,
     "metadata": {},
     "output_type": "execute_result"
    }
   ],
   "source": [
    "df.deceased_date.unique()"
   ]
  },
  {
   "cell_type": "code",
   "execution_count": 48,
   "id": "702b8ea4",
   "metadata": {},
   "outputs": [
    {
     "data": {
      "text/plain": [
       "array(['released', 'isolated', 'deceased', nan], dtype=object)"
      ]
     },
     "execution_count": 48,
     "metadata": {},
     "output_type": "execute_result"
    }
   ],
   "source": [
    "#Exploring state column\n",
    "df.state.unique()"
   ]
  },
  {
   "cell_type": "code",
   "execution_count": 49,
   "id": "9e36e7de",
   "metadata": {},
   "outputs": [],
   "source": [
    "df = df[df['state'].notna()]"
   ]
  },
  {
   "cell_type": "code",
   "execution_count": 50,
   "id": "073fa3ca",
   "metadata": {},
   "outputs": [
    {
     "data": {
      "text/plain": [
       "array(['released', 'isolated', 'deceased'], dtype=object)"
      ]
     },
     "execution_count": 50,
     "metadata": {},
     "output_type": "execute_result"
    }
   ],
   "source": [
    "df.state.unique()"
   ]
  },
  {
   "cell_type": "code",
   "execution_count": 51,
   "id": "5722040e",
   "metadata": {},
   "outputs": [
    {
     "data": {
      "text/plain": [
       "array([ 59.        ,  36.        ,  32.        ,  31.        ,\n",
       "        57.        ,  28.        ,  40.        ,  63.        ,\n",
       "        61.        ,  85.        ,  71.        ,  80.        ,\n",
       "        78.        ,  79.        ,  23.        ,  82.        ,\n",
       "        87.        ,  38.        ,  62.        ,  43.        ,\n",
       "        65.        ,  37.        ,  55.        ,  73.        ,\n",
       "        69.        ,  58.        ,  53.        ,  39.        ,\n",
       "        60.        ,  47.        ,  70.        ,  46.        ,\n",
       "        44.        ,  24.        ,  30.        ,  67.        ,\n",
       "        29.        ,  50.        ,  86.        ,  77.        ,\n",
       "        33.        ,  88.        ,  68.        ,  49.        ,\n",
       "        48.        ,  56.        ,  41.        ,  20.        ,\n",
       "        27.        ,  35.        ,  72.        ,  26.        ,\n",
       "        18.        ,  54.        ,  51.        ,  52.        ,\n",
       "        94.        ,  10.        ,  42.        ,   3.        ,\n",
       "        34.        ,  45.        ,  25.        ,  64.        ,\n",
       "        74.        ,  16.        ,  19.        ,  22.        ,\n",
       "        11.        ,  84.        ,  17.        ,  21.        ,\n",
       "        76.        ,   8.        ,  91.        ,  75.        ,\n",
       "        48.01133787,  14.        ,   5.        ,  66.        ,\n",
       "        81.        ,  15.        ,  12.        ,   6.        ,\n",
       "        93.        ,   9.        ,   4.        ,  83.        ,\n",
       "        97.        ,  13.        ,  90.        ,  98.        ,\n",
       "        95.        ,  89.        ,  96.        , 107.        ,\n",
       "        92.        ])"
      ]
     },
     "execution_count": 51,
     "metadata": {},
     "output_type": "execute_result"
    }
   ],
   "source": [
    "#Exploring n_age column\n",
    "df.n_age.unique()"
   ]
  },
  {
   "cell_type": "code",
   "execution_count": 52,
   "id": "c1764f80",
   "metadata": {},
   "outputs": [
    {
     "data": {
      "text/plain": [
       "0"
      ]
     },
     "execution_count": 52,
     "metadata": {},
     "output_type": "execute_result"
    }
   ],
   "source": [
    "df.n_age.isna().sum()"
   ]
  },
  {
   "cell_type": "code",
   "execution_count": 53,
   "id": "d8ec85ee",
   "metadata": {},
   "outputs": [
    {
     "data": {
      "text/plain": [
       "patient_id            0\n",
       "global_num            0\n",
       "sex                   0\n",
       "birth_year            0\n",
       "age                   0\n",
       "country               0\n",
       "province              0\n",
       "city                  0\n",
       "infection_case        0\n",
       "infection_order       0\n",
       "infected_by           0\n",
       "contact_number        0\n",
       "symptom_onset_date    0\n",
       "confirmed_date        0\n",
       "released_date         0\n",
       "deceased_date         0\n",
       "state                 0\n",
       "n_age                 0\n",
       "dtype: int64"
      ]
     },
     "execution_count": 53,
     "metadata": {},
     "output_type": "execute_result"
    }
   ],
   "source": [
    "#Exploring all column for nan\n",
    "df.isna().sum()"
   ]
  },
  {
   "cell_type": "code",
   "execution_count": 54,
   "id": "7a0875a2",
   "metadata": {},
   "outputs": [
    {
     "data": {
      "text/plain": [
       "(1891, 18)"
      ]
     },
     "execution_count": 54,
     "metadata": {},
     "output_type": "execute_result"
    }
   ],
   "source": [
    "df.shape"
   ]
  },
  {
   "cell_type": "code",
   "execution_count": 55,
   "id": "5de083e8",
   "metadata": {},
   "outputs": [
    {
     "data": {
      "text/plain": [
       "patient_id            0\n",
       "global_num            0\n",
       "sex                   0\n",
       "birth_year            0\n",
       "age                   0\n",
       "country               0\n",
       "province              0\n",
       "city                  0\n",
       "infection_case        0\n",
       "infection_order       0\n",
       "infected_by           0\n",
       "contact_number        0\n",
       "symptom_onset_date    0\n",
       "confirmed_date        0\n",
       "released_date         0\n",
       "deceased_date         0\n",
       "state                 0\n",
       "n_age                 0\n",
       "dtype: int64"
      ]
     },
     "execution_count": 55,
     "metadata": {},
     "output_type": "execute_result"
    }
   ],
   "source": [
    "df.isna().sum()"
   ]
  },
  {
   "cell_type": "code",
   "execution_count": 56,
   "id": "845e3cab",
   "metadata": {},
   "outputs": [],
   "source": [
    "# Remove data column from the data\n",
    "df = df.drop(['symptom_onset_date','confirmed_date','released_date','deceased_date'],axis =1)"
   ]
  },
  {
   "cell_type": "code",
   "execution_count": 57,
   "id": "4aaf449c",
   "metadata": {},
   "outputs": [
    {
     "data": {
      "text/plain": [
       "patient_id         1891\n",
       "global_num         1139\n",
       "sex                   2\n",
       "birth_year           97\n",
       "age                  11\n",
       "country               4\n",
       "province             16\n",
       "city                126\n",
       "infection_case       16\n",
       "infection_order       7\n",
       "infected_by         188\n",
       "contact_number       65\n",
       "state                 3\n",
       "n_age                97\n",
       "dtype: int64"
      ]
     },
     "execution_count": 57,
     "metadata": {},
     "output_type": "execute_result"
    }
   ],
   "source": [
    "# Review the count of unique values in each column\n",
    "df.nunique()"
   ]
  },
  {
   "cell_type": "code",
   "execution_count": 58,
   "id": "f15249fc",
   "metadata": {},
   "outputs": [
    {
     "data": {
      "text/plain": [
       "patient_id         1.000000\n",
       "global_num         0.602327\n",
       "sex                0.001058\n",
       "birth_year         0.051296\n",
       "age                0.005817\n",
       "country            0.002115\n",
       "province           0.008461\n",
       "city               0.066631\n",
       "infection_case     0.008461\n",
       "infection_order    0.003702\n",
       "infected_by        0.099418\n",
       "contact_number     0.034373\n",
       "state              0.001586\n",
       "n_age              0.051296\n",
       "dtype: float64"
      ]
     },
     "execution_count": 58,
     "metadata": {},
     "output_type": "execute_result"
    }
   ],
   "source": [
    "df.nunique()/df.shape[0]"
   ]
  },
  {
   "cell_type": "code",
   "execution_count": 59,
   "id": "cd574b5a",
   "metadata": {},
   "outputs": [
    {
     "data": {
      "text/html": [
       "<div>\n",
       "<style scoped>\n",
       "    .dataframe tbody tr th:only-of-type {\n",
       "        vertical-align: middle;\n",
       "    }\n",
       "\n",
       "    .dataframe tbody tr th {\n",
       "        vertical-align: top;\n",
       "    }\n",
       "\n",
       "    .dataframe thead th {\n",
       "        text-align: right;\n",
       "    }\n",
       "</style>\n",
       "<table border=\"1\" class=\"dataframe\">\n",
       "  <thead>\n",
       "    <tr style=\"text-align: right;\">\n",
       "      <th></th>\n",
       "      <th>count</th>\n",
       "      <th>mean</th>\n",
       "      <th>std</th>\n",
       "      <th>min</th>\n",
       "      <th>25%</th>\n",
       "      <th>50%</th>\n",
       "      <th>75%</th>\n",
       "      <th>max</th>\n",
       "    </tr>\n",
       "  </thead>\n",
       "  <tbody>\n",
       "    <tr>\n",
       "      <th>patient_id</th>\n",
       "      <td>1891.0</td>\n",
       "      <td>4.062127e+09</td>\n",
       "      <td>2.196706e+09</td>\n",
       "      <td>1.000000e+09</td>\n",
       "      <td>1.600000e+09</td>\n",
       "      <td>6.001000e+09</td>\n",
       "      <td>6.001001e+09</td>\n",
       "      <td>7.000000e+09</td>\n",
       "    </tr>\n",
       "    <tr>\n",
       "      <th>global_num</th>\n",
       "      <td>1891.0</td>\n",
       "      <td>4.565878e+03</td>\n",
       "      <td>2.130573e+03</td>\n",
       "      <td>1.000000e+00</td>\n",
       "      <td>3.980500e+03</td>\n",
       "      <td>4.664817e+03</td>\n",
       "      <td>5.664000e+03</td>\n",
       "      <td>8.717000e+03</td>\n",
       "    </tr>\n",
       "    <tr>\n",
       "      <th>birth_year</th>\n",
       "      <td>1891.0</td>\n",
       "      <td>1.975382e+03</td>\n",
       "      <td>1.787256e+01</td>\n",
       "      <td>1.916000e+03</td>\n",
       "      <td>1.965000e+03</td>\n",
       "      <td>1.974989e+03</td>\n",
       "      <td>1.991000e+03</td>\n",
       "      <td>2.020000e+03</td>\n",
       "    </tr>\n",
       "    <tr>\n",
       "      <th>infection_order</th>\n",
       "      <td>1891.0</td>\n",
       "      <td>2.285865e+00</td>\n",
       "      <td>1.847202e-01</td>\n",
       "      <td>1.000000e+00</td>\n",
       "      <td>2.285714e+00</td>\n",
       "      <td>2.285714e+00</td>\n",
       "      <td>2.285714e+00</td>\n",
       "      <td>6.000000e+00</td>\n",
       "    </tr>\n",
       "    <tr>\n",
       "      <th>infected_by</th>\n",
       "      <td>1891.0</td>\n",
       "      <td>2.646312e+09</td>\n",
       "      <td>7.516320e+08</td>\n",
       "      <td>1.000000e+09</td>\n",
       "      <td>2.600789e+09</td>\n",
       "      <td>2.600789e+09</td>\n",
       "      <td>2.600789e+09</td>\n",
       "      <td>6.113000e+09</td>\n",
       "    </tr>\n",
       "    <tr>\n",
       "      <th>contact_number</th>\n",
       "      <td>1891.0</td>\n",
       "      <td>2.298088e+01</td>\n",
       "      <td>2.982273e+01</td>\n",
       "      <td>0.000000e+00</td>\n",
       "      <td>2.412895e+01</td>\n",
       "      <td>2.412895e+01</td>\n",
       "      <td>2.412895e+01</td>\n",
       "      <td>1.091000e+03</td>\n",
       "    </tr>\n",
       "    <tr>\n",
       "      <th>n_age</th>\n",
       "      <td>1891.0</td>\n",
       "      <td>4.761777e+01</td>\n",
       "      <td>1.787256e+01</td>\n",
       "      <td>3.000000e+00</td>\n",
       "      <td>3.200000e+01</td>\n",
       "      <td>4.801134e+01</td>\n",
       "      <td>5.800000e+01</td>\n",
       "      <td>1.070000e+02</td>\n",
       "    </tr>\n",
       "  </tbody>\n",
       "</table>\n",
       "</div>"
      ],
      "text/plain": [
       "                  count          mean           std           min  \\\n",
       "patient_id       1891.0  4.062127e+09  2.196706e+09  1.000000e+09   \n",
       "global_num       1891.0  4.565878e+03  2.130573e+03  1.000000e+00   \n",
       "birth_year       1891.0  1.975382e+03  1.787256e+01  1.916000e+03   \n",
       "infection_order  1891.0  2.285865e+00  1.847202e-01  1.000000e+00   \n",
       "infected_by      1891.0  2.646312e+09  7.516320e+08  1.000000e+09   \n",
       "contact_number   1891.0  2.298088e+01  2.982273e+01  0.000000e+00   \n",
       "n_age            1891.0  4.761777e+01  1.787256e+01  3.000000e+00   \n",
       "\n",
       "                          25%           50%           75%           max  \n",
       "patient_id       1.600000e+09  6.001000e+09  6.001001e+09  7.000000e+09  \n",
       "global_num       3.980500e+03  4.664817e+03  5.664000e+03  8.717000e+03  \n",
       "birth_year       1.965000e+03  1.974989e+03  1.991000e+03  2.020000e+03  \n",
       "infection_order  2.285714e+00  2.285714e+00  2.285714e+00  6.000000e+00  \n",
       "infected_by      2.600789e+09  2.600789e+09  2.600789e+09  6.113000e+09  \n",
       "contact_number   2.412895e+01  2.412895e+01  2.412895e+01  1.091000e+03  \n",
       "n_age            3.200000e+01  4.801134e+01  5.800000e+01  1.070000e+02  "
      ]
     },
     "execution_count": 59,
     "metadata": {},
     "output_type": "execute_result"
    }
   ],
   "source": [
    "#Review the range of values per column\n",
    "df.describe().T"
   ]
  },
  {
   "cell_type": "code",
   "execution_count": 60,
   "id": "73cbfbc7",
   "metadata": {},
   "outputs": [
    {
     "data": {
      "text/plain": [
       "0"
      ]
     },
     "execution_count": 60,
     "metadata": {},
     "output_type": "execute_result"
    }
   ],
   "source": [
    "#Check for duplicated rows\n",
    "df.duplicated().sum()"
   ]
  },
  {
   "cell_type": "code",
   "execution_count": 61,
   "id": "3b51e7a8",
   "metadata": {},
   "outputs": [
    {
     "data": {
      "text/plain": [
       "sex                 2\n",
       "age                11\n",
       "country             4\n",
       "province           16\n",
       "city              126\n",
       "infection_case     16\n",
       "state               3\n",
       "dtype: int64"
      ]
     },
     "execution_count": 61,
     "metadata": {},
     "output_type": "execute_result"
    }
   ],
   "source": [
    "# Select categorical variables from the data\n",
    "dfo = df.select_dtypes(include = 'object',exclude = 'datetime')\n",
    "dfo.nunique()"
   ]
  },
  {
   "cell_type": "code",
   "execution_count": 62,
   "id": "88e78f92",
   "metadata": {},
   "outputs": [
    {
     "data": {
      "text/html": [
       "<div>\n",
       "<style scoped>\n",
       "    .dataframe tbody tr th:only-of-type {\n",
       "        vertical-align: middle;\n",
       "    }\n",
       "\n",
       "    .dataframe tbody tr th {\n",
       "        vertical-align: top;\n",
       "    }\n",
       "\n",
       "    .dataframe thead th {\n",
       "        text-align: right;\n",
       "    }\n",
       "</style>\n",
       "<table border=\"1\" class=\"dataframe\">\n",
       "  <thead>\n",
       "    <tr style=\"text-align: right;\">\n",
       "      <th></th>\n",
       "      <th>Variable_name</th>\n",
       "      <th>Counts</th>\n",
       "    </tr>\n",
       "  </thead>\n",
       "  <tbody>\n",
       "    <tr>\n",
       "      <th>0</th>\n",
       "      <td>sex</td>\n",
       "      <td>2</td>\n",
       "    </tr>\n",
       "    <tr>\n",
       "      <th>6</th>\n",
       "      <td>state</td>\n",
       "      <td>3</td>\n",
       "    </tr>\n",
       "    <tr>\n",
       "      <th>2</th>\n",
       "      <td>country</td>\n",
       "      <td>4</td>\n",
       "    </tr>\n",
       "    <tr>\n",
       "      <th>1</th>\n",
       "      <td>age</td>\n",
       "      <td>11</td>\n",
       "    </tr>\n",
       "    <tr>\n",
       "      <th>3</th>\n",
       "      <td>province</td>\n",
       "      <td>16</td>\n",
       "    </tr>\n",
       "    <tr>\n",
       "      <th>5</th>\n",
       "      <td>infection_case</td>\n",
       "      <td>16</td>\n",
       "    </tr>\n",
       "    <tr>\n",
       "      <th>4</th>\n",
       "      <td>city</td>\n",
       "      <td>126</td>\n",
       "    </tr>\n",
       "  </tbody>\n",
       "</table>\n",
       "</div>"
      ],
      "text/plain": [
       "    Variable_name  Counts\n",
       "0             sex       2\n",
       "6           state       3\n",
       "2         country       4\n",
       "1             age      11\n",
       "3        province      16\n",
       "5  infection_case      16\n",
       "4            city     126"
      ]
     },
     "execution_count": 62,
     "metadata": {},
     "output_type": "execute_result"
    }
   ],
   "source": [
    "vn = dfo.nunique().reset_index()\n",
    "vn.columns = ['Variable_name','Counts']\n",
    "vn.sort_values(by = 'Counts')"
   ]
  },
  {
   "cell_type": "code",
   "execution_count": 63,
   "id": "5a1ca2bc",
   "metadata": {},
   "outputs": [
    {
     "data": {
      "text/plain": [
       "<AxesSubplot:>"
      ]
     },
     "execution_count": 63,
     "metadata": {},
     "output_type": "execute_result"
    },
    {
     "data": {
      "image/png": "[encoded data removed]",
      "text/plain": [
       "<Figure size 432x288 with 2 Axes>"
      ]
     },
     "metadata": {
      "needs_background": "light"
     },
     "output_type": "display_data"
    }
   ],
   "source": [
    "import seaborn as sns\n",
    "# Plot the heat map for checking correlations\n",
    "sns.heatmap(df.corr())"
   ]
  },
  {
   "cell_type": "code",
   "execution_count": 64,
   "id": "1ce7d0aa",
   "metadata": {},
   "outputs": [
    {
     "data": {
      "text/html": [
       "<div>\n",
       "<style scoped>\n",
       "    .dataframe tbody tr th:only-of-type {\n",
       "        vertical-align: middle;\n",
       "    }\n",
       "\n",
       "    .dataframe tbody tr th {\n",
       "        vertical-align: top;\n",
       "    }\n",
       "\n",
       "    .dataframe thead th {\n",
       "        text-align: right;\n",
       "    }\n",
       "</style>\n",
       "<table border=\"1\" class=\"dataframe\">\n",
       "  <thead>\n",
       "    <tr style=\"text-align: right;\">\n",
       "      <th></th>\n",
       "      <th>patient_id</th>\n",
       "      <th>global_num</th>\n",
       "      <th>birth_year</th>\n",
       "      <th>infection_order</th>\n",
       "      <th>infected_by</th>\n",
       "      <th>contact_number</th>\n",
       "      <th>n_age</th>\n",
       "    </tr>\n",
       "  </thead>\n",
       "  <tbody>\n",
       "    <tr>\n",
       "      <th>patient_id</th>\n",
       "      <td>1.000000</td>\n",
       "      <td>-0.104879</td>\n",
       "      <td>-0.087258</td>\n",
       "      <td>-0.028745</td>\n",
       "      <td>0.274019</td>\n",
       "      <td>-0.018634</td>\n",
       "      <td>0.087258</td>\n",
       "    </tr>\n",
       "    <tr>\n",
       "      <th>global_num</th>\n",
       "      <td>-0.104879</td>\n",
       "      <td>1.000000</td>\n",
       "      <td>-0.005703</td>\n",
       "      <td>-0.016797</td>\n",
       "      <td>-0.008419</td>\n",
       "      <td>-0.003310</td>\n",
       "      <td>0.005703</td>\n",
       "    </tr>\n",
       "    <tr>\n",
       "      <th>birth_year</th>\n",
       "      <td>-0.087258</td>\n",
       "      <td>-0.005703</td>\n",
       "      <td>1.000000</td>\n",
       "      <td>-0.073419</td>\n",
       "      <td>0.016758</td>\n",
       "      <td>0.011336</td>\n",
       "      <td>-1.000000</td>\n",
       "    </tr>\n",
       "    <tr>\n",
       "      <th>infection_order</th>\n",
       "      <td>-0.028745</td>\n",
       "      <td>-0.016797</td>\n",
       "      <td>-0.073419</td>\n",
       "      <td>1.000000</td>\n",
       "      <td>-0.144587</td>\n",
       "      <td>-0.022764</td>\n",
       "      <td>0.073419</td>\n",
       "    </tr>\n",
       "    <tr>\n",
       "      <th>infected_by</th>\n",
       "      <td>0.274019</td>\n",
       "      <td>-0.008419</td>\n",
       "      <td>0.016758</td>\n",
       "      <td>-0.144587</td>\n",
       "      <td>1.000000</td>\n",
       "      <td>-0.027794</td>\n",
       "      <td>-0.016758</td>\n",
       "    </tr>\n",
       "    <tr>\n",
       "      <th>contact_number</th>\n",
       "      <td>-0.018634</td>\n",
       "      <td>-0.003310</td>\n",
       "      <td>0.011336</td>\n",
       "      <td>-0.022764</td>\n",
       "      <td>-0.027794</td>\n",
       "      <td>1.000000</td>\n",
       "      <td>-0.011336</td>\n",
       "    </tr>\n",
       "    <tr>\n",
       "      <th>n_age</th>\n",
       "      <td>0.087258</td>\n",
       "      <td>0.005703</td>\n",
       "      <td>-1.000000</td>\n",
       "      <td>0.073419</td>\n",
       "      <td>-0.016758</td>\n",
       "      <td>-0.011336</td>\n",
       "      <td>1.000000</td>\n",
       "    </tr>\n",
       "  </tbody>\n",
       "</table>\n",
       "</div>"
      ],
      "text/plain": [
       "                 patient_id  global_num  birth_year  infection_order  \\\n",
       "patient_id         1.000000   -0.104879   -0.087258        -0.028745   \n",
       "global_num        -0.104879    1.000000   -0.005703        -0.016797   \n",
       "birth_year        -0.087258   -0.005703    1.000000        -0.073419   \n",
       "infection_order   -0.028745   -0.016797   -0.073419         1.000000   \n",
       "infected_by        0.274019   -0.008419    0.016758        -0.144587   \n",
       "contact_number    -0.018634   -0.003310    0.011336        -0.022764   \n",
       "n_age              0.087258    0.005703   -1.000000         0.073419   \n",
       "\n",
       "                 infected_by  contact_number     n_age  \n",
       "patient_id          0.274019       -0.018634  0.087258  \n",
       "global_num         -0.008419       -0.003310  0.005703  \n",
       "birth_year          0.016758        0.011336 -1.000000  \n",
       "infection_order    -0.144587       -0.022764  0.073419  \n",
       "infected_by         1.000000       -0.027794 -0.016758  \n",
       "contact_number     -0.027794        1.000000 -0.011336  \n",
       "n_age              -0.016758       -0.011336  1.000000  "
      ]
     },
     "execution_count": 64,
     "metadata": {},
     "output_type": "execute_result"
    }
   ],
   "source": [
    "df.corr()"
   ]
  },
  {
   "cell_type": "code",
   "execution_count": 68,
   "id": "c6af5b27",
   "metadata": {},
   "outputs": [
    {
     "data": {
      "text/plain": [
       "global_num         1139\n",
       "sex                   2\n",
       "birth_year           97\n",
       "age                  11\n",
       "country               4\n",
       "province             16\n",
       "city                126\n",
       "infection_case       16\n",
       "infection_order       7\n",
       "contact_number       65\n",
       "state                 3\n",
       "n_age                97\n",
       "dtype: int64"
      ]
     },
     "execution_count": 68,
     "metadata": {},
     "output_type": "execute_result"
    }
   ],
   "source": [
    "df_box = df.drop(['patient_id','infected_by'],axis = 1)\n",
    "df_box.nunique()"
   ]
  },
  {
   "cell_type": "code",
   "execution_count": 73,
   "id": "371fd749",
   "metadata": {},
   "outputs": [
    {
     "data": {
      "text/plain": [
       "<AxesSubplot:>"
      ]
     },
     "execution_count": 73,
     "metadata": {},
     "output_type": "execute_result"
    },
    {
     "data": {
      "image/png": "[encoded data removed]",
      "text/plain": [
       "<Figure size 2160x720 with 1 Axes>"
      ]
     },
     "metadata": {
      "needs_background": "light"
     },
     "output_type": "display_data"
    }
   ],
   "source": [
    "#Box plot for checking outliers\n",
    "df_box.boxplot(fontsize = 25,figsize = (30,10))"
   ]
  },
  {
   "cell_type": "code",
   "execution_count": 74,
   "id": "695d4c2d",
   "metadata": {},
   "outputs": [
    {
     "data": {
      "text/plain": [
       "Index(['sex', 'age', 'country', 'province', 'city', 'infection_case', 'state'], dtype='object')"
      ]
     },
     "execution_count": 74,
     "metadata": {},
     "output_type": "execute_result"
    }
   ],
   "source": [
    "#Create dummy features for object type features\n",
    "dfo.columns"
   ]
  },
  {
   "cell_type": "code",
   "execution_count": 76,
   "id": "ff9b3ba3",
   "metadata": {},
   "outputs": [],
   "source": [
    "X = pd.get_dummies(df[['sex', 'age', 'country', 'province', 'city', 'infection_case']])\n",
    "y = df['state']"
   ]
  },
  {
   "cell_type": "code",
   "execution_count": 78,
   "id": "e50228e8",
   "metadata": {},
   "outputs": [
    {
     "data": {
      "text/plain": [
       "Index(['sex_female', 'sex_male', 'age_0s', 'age_100s', 'age_10s', 'age_20s',\n",
       "       'age_30s', 'age_40s', 'age_50s', 'age_60s',\n",
       "       ...\n",
       "       'infection_case_Pilgrimage to Israel',\n",
       "       'infection_case_River of Grace Community Church',\n",
       "       'infection_case_Seongdong-gu APT', 'infection_case_Shincheonji Church',\n",
       "       'infection_case_Suyeong-gu Kindergarten',\n",
       "       'infection_case_contact with patient', 'infection_case_etc',\n",
       "       'infection_case_gym facility in Cheonan',\n",
       "       'infection_case_gym facility in Sejong',\n",
       "       'infection_case_overseas inflow'],\n",
       "      dtype='object', length=175)"
      ]
     },
     "execution_count": 78,
     "metadata": {},
     "output_type": "execute_result"
    }
   ],
   "source": [
    "X.columns"
   ]
  },
  {
   "cell_type": "code",
   "execution_count": 79,
   "id": "db520d9f",
   "metadata": {},
   "outputs": [],
   "source": [
    "from sklearn.model_selection import train_test_split\n",
    "X_train, X_test, y_train, y_test = train_test_split(X,y,test_size = 0.2, random_state = 1)"
   ]
  },
  {
   "cell_type": "code",
   "execution_count": 80,
   "id": "dd38e435",
   "metadata": {},
   "outputs": [],
   "source": [
    "from sklearn import preprocessing\n",
    "scaler = preprocessing.StandardScaler().fit(X_train)"
   ]
  },
  {
   "cell_type": "code",
   "execution_count": 81,
   "id": "d3562762",
   "metadata": {},
   "outputs": [
    {
     "data": {
      "text/plain": [
       "StandardScaler()"
      ]
     },
     "execution_count": 81,
     "metadata": {},
     "output_type": "execute_result"
    }
   ],
   "source": [
    "scaler"
   ]
  },
  {
   "cell_type": "code",
   "execution_count": 82,
   "id": "5cc0634d",
   "metadata": {},
   "outputs": [],
   "source": [
    "X_train_scaled=scaler.transform(X_train)"
   ]
  },
  {
   "cell_type": "code",
   "execution_count": 83,
   "id": "d56ae9c6",
   "metadata": {},
   "outputs": [
    {
     "data": {
      "text/html": [
       "<div>\n",
       "<style scoped>\n",
       "    .dataframe tbody tr th:only-of-type {\n",
       "        vertical-align: middle;\n",
       "    }\n",
       "\n",
       "    .dataframe tbody tr th {\n",
       "        vertical-align: top;\n",
       "    }\n",
       "\n",
       "    .dataframe thead th {\n",
       "        text-align: right;\n",
       "    }\n",
       "</style>\n",
       "<table border=\"1\" class=\"dataframe\">\n",
       "  <thead>\n",
       "    <tr style=\"text-align: right;\">\n",
       "      <th></th>\n",
       "      <th>sex_female</th>\n",
       "      <th>sex_male</th>\n",
       "      <th>age_0s</th>\n",
       "      <th>age_100s</th>\n",
       "      <th>age_10s</th>\n",
       "      <th>age_20s</th>\n",
       "      <th>age_30s</th>\n",
       "      <th>age_40s</th>\n",
       "      <th>age_50s</th>\n",
       "      <th>age_60s</th>\n",
       "      <th>...</th>\n",
       "      <th>infection_case_Pilgrimage to Israel</th>\n",
       "      <th>infection_case_River of Grace Community Church</th>\n",
       "      <th>infection_case_Seongdong-gu APT</th>\n",
       "      <th>infection_case_Shincheonji Church</th>\n",
       "      <th>infection_case_Suyeong-gu Kindergarten</th>\n",
       "      <th>infection_case_contact with patient</th>\n",
       "      <th>infection_case_etc</th>\n",
       "      <th>infection_case_gym facility in Cheonan</th>\n",
       "      <th>infection_case_gym facility in Sejong</th>\n",
       "      <th>infection_case_overseas inflow</th>\n",
       "    </tr>\n",
       "  </thead>\n",
       "  <tbody>\n",
       "    <tr>\n",
       "      <th>283</th>\n",
       "      <td>1</td>\n",
       "      <td>0</td>\n",
       "      <td>0</td>\n",
       "      <td>0</td>\n",
       "      <td>0</td>\n",
       "      <td>0</td>\n",
       "      <td>0</td>\n",
       "      <td>0</td>\n",
       "      <td>1</td>\n",
       "      <td>0</td>\n",
       "      <td>...</td>\n",
       "      <td>0</td>\n",
       "      <td>0</td>\n",
       "      <td>0</td>\n",
       "      <td>0</td>\n",
       "      <td>0</td>\n",
       "      <td>1</td>\n",
       "      <td>0</td>\n",
       "      <td>0</td>\n",
       "      <td>0</td>\n",
       "      <td>0</td>\n",
       "    </tr>\n",
       "    <tr>\n",
       "      <th>304</th>\n",
       "      <td>0</td>\n",
       "      <td>1</td>\n",
       "      <td>0</td>\n",
       "      <td>0</td>\n",
       "      <td>0</td>\n",
       "      <td>1</td>\n",
       "      <td>0</td>\n",
       "      <td>0</td>\n",
       "      <td>0</td>\n",
       "      <td>0</td>\n",
       "      <td>...</td>\n",
       "      <td>0</td>\n",
       "      <td>0</td>\n",
       "      <td>0</td>\n",
       "      <td>0</td>\n",
       "      <td>0</td>\n",
       "      <td>0</td>\n",
       "      <td>0</td>\n",
       "      <td>0</td>\n",
       "      <td>0</td>\n",
       "      <td>0</td>\n",
       "    </tr>\n",
       "    <tr>\n",
       "      <th>614</th>\n",
       "      <td>1</td>\n",
       "      <td>0</td>\n",
       "      <td>0</td>\n",
       "      <td>0</td>\n",
       "      <td>0</td>\n",
       "      <td>0</td>\n",
       "      <td>0</td>\n",
       "      <td>0</td>\n",
       "      <td>1</td>\n",
       "      <td>0</td>\n",
       "      <td>...</td>\n",
       "      <td>0</td>\n",
       "      <td>0</td>\n",
       "      <td>0</td>\n",
       "      <td>0</td>\n",
       "      <td>0</td>\n",
       "      <td>1</td>\n",
       "      <td>0</td>\n",
       "      <td>0</td>\n",
       "      <td>0</td>\n",
       "      <td>0</td>\n",
       "    </tr>\n",
       "    <tr>\n",
       "      <th>1982</th>\n",
       "      <td>1</td>\n",
       "      <td>0</td>\n",
       "      <td>0</td>\n",
       "      <td>0</td>\n",
       "      <td>0</td>\n",
       "      <td>0</td>\n",
       "      <td>0</td>\n",
       "      <td>0</td>\n",
       "      <td>0</td>\n",
       "      <td>0</td>\n",
       "      <td>...</td>\n",
       "      <td>0</td>\n",
       "      <td>0</td>\n",
       "      <td>0</td>\n",
       "      <td>0</td>\n",
       "      <td>0</td>\n",
       "      <td>0</td>\n",
       "      <td>1</td>\n",
       "      <td>0</td>\n",
       "      <td>0</td>\n",
       "      <td>0</td>\n",
       "    </tr>\n",
       "    <tr>\n",
       "      <th>2089</th>\n",
       "      <td>1</td>\n",
       "      <td>0</td>\n",
       "      <td>0</td>\n",
       "      <td>0</td>\n",
       "      <td>0</td>\n",
       "      <td>0</td>\n",
       "      <td>1</td>\n",
       "      <td>0</td>\n",
       "      <td>0</td>\n",
       "      <td>0</td>\n",
       "      <td>...</td>\n",
       "      <td>0</td>\n",
       "      <td>0</td>\n",
       "      <td>0</td>\n",
       "      <td>0</td>\n",
       "      <td>0</td>\n",
       "      <td>0</td>\n",
       "      <td>1</td>\n",
       "      <td>0</td>\n",
       "      <td>0</td>\n",
       "      <td>0</td>\n",
       "    </tr>\n",
       "    <tr>\n",
       "      <th>...</th>\n",
       "      <td>...</td>\n",
       "      <td>...</td>\n",
       "      <td>...</td>\n",
       "      <td>...</td>\n",
       "      <td>...</td>\n",
       "      <td>...</td>\n",
       "      <td>...</td>\n",
       "      <td>...</td>\n",
       "      <td>...</td>\n",
       "      <td>...</td>\n",
       "      <td>...</td>\n",
       "      <td>...</td>\n",
       "      <td>...</td>\n",
       "      <td>...</td>\n",
       "      <td>...</td>\n",
       "      <td>...</td>\n",
       "      <td>...</td>\n",
       "      <td>...</td>\n",
       "      <td>...</td>\n",
       "      <td>...</td>\n",
       "      <td>...</td>\n",
       "    </tr>\n",
       "    <tr>\n",
       "      <th>1080</th>\n",
       "      <td>1</td>\n",
       "      <td>0</td>\n",
       "      <td>0</td>\n",
       "      <td>0</td>\n",
       "      <td>0</td>\n",
       "      <td>0</td>\n",
       "      <td>0</td>\n",
       "      <td>1</td>\n",
       "      <td>0</td>\n",
       "      <td>0</td>\n",
       "      <td>...</td>\n",
       "      <td>0</td>\n",
       "      <td>0</td>\n",
       "      <td>0</td>\n",
       "      <td>0</td>\n",
       "      <td>0</td>\n",
       "      <td>0</td>\n",
       "      <td>1</td>\n",
       "      <td>0</td>\n",
       "      <td>0</td>\n",
       "      <td>0</td>\n",
       "    </tr>\n",
       "    <tr>\n",
       "      <th>2113</th>\n",
       "      <td>0</td>\n",
       "      <td>1</td>\n",
       "      <td>0</td>\n",
       "      <td>0</td>\n",
       "      <td>0</td>\n",
       "      <td>0</td>\n",
       "      <td>0</td>\n",
       "      <td>1</td>\n",
       "      <td>0</td>\n",
       "      <td>0</td>\n",
       "      <td>...</td>\n",
       "      <td>0</td>\n",
       "      <td>0</td>\n",
       "      <td>0</td>\n",
       "      <td>0</td>\n",
       "      <td>0</td>\n",
       "      <td>0</td>\n",
       "      <td>1</td>\n",
       "      <td>0</td>\n",
       "      <td>0</td>\n",
       "      <td>0</td>\n",
       "    </tr>\n",
       "    <tr>\n",
       "      <th>1271</th>\n",
       "      <td>1</td>\n",
       "      <td>0</td>\n",
       "      <td>0</td>\n",
       "      <td>0</td>\n",
       "      <td>0</td>\n",
       "      <td>0</td>\n",
       "      <td>0</td>\n",
       "      <td>0</td>\n",
       "      <td>1</td>\n",
       "      <td>0</td>\n",
       "      <td>...</td>\n",
       "      <td>0</td>\n",
       "      <td>0</td>\n",
       "      <td>0</td>\n",
       "      <td>0</td>\n",
       "      <td>0</td>\n",
       "      <td>0</td>\n",
       "      <td>1</td>\n",
       "      <td>0</td>\n",
       "      <td>0</td>\n",
       "      <td>0</td>\n",
       "    </tr>\n",
       "    <tr>\n",
       "      <th>235</th>\n",
       "      <td>0</td>\n",
       "      <td>1</td>\n",
       "      <td>0</td>\n",
       "      <td>0</td>\n",
       "      <td>0</td>\n",
       "      <td>1</td>\n",
       "      <td>0</td>\n",
       "      <td>0</td>\n",
       "      <td>0</td>\n",
       "      <td>0</td>\n",
       "      <td>...</td>\n",
       "      <td>0</td>\n",
       "      <td>0</td>\n",
       "      <td>0</td>\n",
       "      <td>0</td>\n",
       "      <td>0</td>\n",
       "      <td>0</td>\n",
       "      <td>0</td>\n",
       "      <td>0</td>\n",
       "      <td>0</td>\n",
       "      <td>1</td>\n",
       "    </tr>\n",
       "    <tr>\n",
       "      <th>1236</th>\n",
       "      <td>1</td>\n",
       "      <td>0</td>\n",
       "      <td>0</td>\n",
       "      <td>0</td>\n",
       "      <td>0</td>\n",
       "      <td>1</td>\n",
       "      <td>0</td>\n",
       "      <td>0</td>\n",
       "      <td>0</td>\n",
       "      <td>0</td>\n",
       "      <td>...</td>\n",
       "      <td>0</td>\n",
       "      <td>0</td>\n",
       "      <td>0</td>\n",
       "      <td>0</td>\n",
       "      <td>0</td>\n",
       "      <td>0</td>\n",
       "      <td>1</td>\n",
       "      <td>0</td>\n",
       "      <td>0</td>\n",
       "      <td>0</td>\n",
       "    </tr>\n",
       "  </tbody>\n",
       "</table>\n",
       "<p>1512 rows × 175 columns</p>\n",
       "</div>"
      ],
      "text/plain": [
       "      sex_female  sex_male  age_0s  age_100s  age_10s  age_20s  age_30s  \\\n",
       "283            1         0       0         0        0        0        0   \n",
       "304            0         1       0         0        0        1        0   \n",
       "614            1         0       0         0        0        0        0   \n",
       "1982           1         0       0         0        0        0        0   \n",
       "2089           1         0       0         0        0        0        1   \n",
       "...          ...       ...     ...       ...      ...      ...      ...   \n",
       "1080           1         0       0         0        0        0        0   \n",
       "2113           0         1       0         0        0        0        0   \n",
       "1271           1         0       0         0        0        0        0   \n",
       "235            0         1       0         0        0        1        0   \n",
       "1236           1         0       0         0        0        1        0   \n",
       "\n",
       "      age_40s  age_50s  age_60s  ...  infection_case_Pilgrimage to Israel  \\\n",
       "283         0        1        0  ...                                    0   \n",
       "304         0        0        0  ...                                    0   \n",
       "614         0        1        0  ...                                    0   \n",
       "1982        0        0        0  ...                                    0   \n",
       "2089        0        0        0  ...                                    0   \n",
       "...       ...      ...      ...  ...                                  ...   \n",
       "1080        1        0        0  ...                                    0   \n",
       "2113        1        0        0  ...                                    0   \n",
       "1271        0        1        0  ...                                    0   \n",
       "235         0        0        0  ...                                    0   \n",
       "1236        0        0        0  ...                                    0   \n",
       "\n",
       "      infection_case_River of Grace Community Church  \\\n",
       "283                                                0   \n",
       "304                                                0   \n",
       "614                                                0   \n",
       "1982                                               0   \n",
       "2089                                               0   \n",
       "...                                              ...   \n",
       "1080                                               0   \n",
       "2113                                               0   \n",
       "1271                                               0   \n",
       "235                                                0   \n",
       "1236                                               0   \n",
       "\n",
       "      infection_case_Seongdong-gu APT  infection_case_Shincheonji Church  \\\n",
       "283                                 0                                  0   \n",
       "304                                 0                                  0   \n",
       "614                                 0                                  0   \n",
       "1982                                0                                  0   \n",
       "2089                                0                                  0   \n",
       "...                               ...                                ...   \n",
       "1080                                0                                  0   \n",
       "2113                                0                                  0   \n",
       "1271                                0                                  0   \n",
       "235                                 0                                  0   \n",
       "1236                                0                                  0   \n",
       "\n",
       "      infection_case_Suyeong-gu Kindergarten  \\\n",
       "283                                        0   \n",
       "304                                        0   \n",
       "614                                        0   \n",
       "1982                                       0   \n",
       "2089                                       0   \n",
       "...                                      ...   \n",
       "1080                                       0   \n",
       "2113                                       0   \n",
       "1271                                       0   \n",
       "235                                        0   \n",
       "1236                                       0   \n",
       "\n",
       "      infection_case_contact with patient  infection_case_etc  \\\n",
       "283                                     1                   0   \n",
       "304                                     0                   0   \n",
       "614                                     1                   0   \n",
       "1982                                    0                   1   \n",
       "2089                                    0                   1   \n",
       "...                                   ...                 ...   \n",
       "1080                                    0                   1   \n",
       "2113                                    0                   1   \n",
       "1271                                    0                   1   \n",
       "235                                     0                   0   \n",
       "1236                                    0                   1   \n",
       "\n",
       "      infection_case_gym facility in Cheonan  \\\n",
       "283                                        0   \n",
       "304                                        0   \n",
       "614                                        0   \n",
       "1982                                       0   \n",
       "2089                                       0   \n",
       "...                                      ...   \n",
       "1080                                       0   \n",
       "2113                                       0   \n",
       "1271                                       0   \n",
       "235                                        0   \n",
       "1236                                       0   \n",
       "\n",
       "      infection_case_gym facility in Sejong  infection_case_overseas inflow  \n",
       "283                                       0                               0  \n",
       "304                                       0                               0  \n",
       "614                                       0                               0  \n",
       "1982                                      0                               0  \n",
       "2089                                      0                               0  \n",
       "...                                     ...                             ...  \n",
       "1080                                      0                               0  \n",
       "2113                                      0                               0  \n",
       "1271                                      0                               0  \n",
       "235                                       0                               1  \n",
       "1236                                      0                               0  \n",
       "\n",
       "[1512 rows x 175 columns]"
      ]
     },
     "execution_count": 83,
     "metadata": {},
     "output_type": "execute_result"
    }
   ],
   "source": [
    "X_train"
   ]
  },
  {
   "cell_type": "code",
   "execution_count": 86,
   "id": "3a25eb5a",
   "metadata": {},
   "outputs": [
    {
     "data": {
      "text/plain": [
       "(1512, 175)"
      ]
     },
     "execution_count": 86,
     "metadata": {},
     "output_type": "execute_result"
    }
   ],
   "source": [
    "X_train_scaled.shape"
   ]
  },
  {
   "cell_type": "code",
   "execution_count": 87,
   "id": "d3a7fe9a",
   "metadata": {},
   "outputs": [
    {
     "data": {
      "text/plain": [
       "(1512, 175)"
      ]
     },
     "execution_count": 87,
     "metadata": {},
     "output_type": "execute_result"
    }
   ],
   "source": [
    "X_train.shape"
   ]
  },
  {
   "cell_type": "code",
   "execution_count": 102,
   "id": "678ddf86",
   "metadata": {},
   "outputs": [
    {
     "data": {
      "text/plain": [
       "0.907680669524646"
      ]
     },
     "execution_count": 102,
     "metadata": {},
     "output_type": "execute_result"
    }
   ],
   "source": [
    "X_train_scaled[-1,0]"
   ]
  },
  {
   "cell_type": "code",
   "execution_count": 98,
   "id": "e540ae1b",
   "metadata": {},
   "outputs": [],
   "source": [
    "bs = np.array(X_train)"
   ]
  },
  {
   "cell_type": "code",
   "execution_count": 106,
   "id": "6f601204",
   "metadata": {},
   "outputs": [
    {
     "data": {
      "text/plain": [
       "1"
      ]
     },
     "execution_count": 106,
     "metadata": {},
     "output_type": "execute_result"
    }
   ],
   "source": [
    "bs[-1,0]"
   ]
  },
  {
   "cell_type": "code",
   "execution_count": 107,
   "id": "8c2ebb5f",
   "metadata": {},
   "outputs": [],
   "source": [
    "from sklearn.ensemble import RandomForestClassifier\n",
    "clf = RandomForestClassifier(n_estimators=300, random_state=1,n_jobs=-1)\n",
    "model_res = clf.fit(X_train_scaled,y_train,)"
   ]
  },
  {
   "cell_type": "code",
   "execution_count": 108,
   "id": "f4f69862",
   "metadata": {},
   "outputs": [
    {
     "data": {
      "text/plain": [
       "RandomForestClassifier(n_estimators=300, n_jobs=-1, random_state=1)"
      ]
     },
     "execution_count": 108,
     "metadata": {},
     "output_type": "execute_result"
    }
   ],
   "source": [
    "model_res"
   ]
  },
  {
   "cell_type": "code",
   "execution_count": 110,
   "id": "d3c6b2b7",
   "metadata": {},
   "outputs": [],
   "source": [
    "X_test_scaled=scaler.transform(X_test)"
   ]
  },
  {
   "cell_type": "code",
   "execution_count": 111,
   "id": "76ef84ac",
   "metadata": {},
   "outputs": [],
   "source": [
    "y_pred = model_res.predict(X_test_scaled)"
   ]
  },
  {
   "cell_type": "code",
   "execution_count": 114,
   "id": "9e485330",
   "metadata": {},
   "outputs": [],
   "source": [
    "y_pred_proba = model_res.predict_proba(X_test_scaled)"
   ]
  },
  {
   "cell_type": "code",
   "execution_count": 116,
   "id": "17a53cde",
   "metadata": {},
   "outputs": [
    {
     "data": {
      "text/plain": [
       "(379, 3)"
      ]
     },
     "execution_count": 116,
     "metadata": {},
     "output_type": "execute_result"
    }
   ],
   "source": [
    "y_pred_proba.shape"
   ]
  },
  {
   "cell_type": "code",
   "execution_count": 117,
   "id": "39e18671",
   "metadata": {},
   "outputs": [
    {
     "data": {
      "text/plain": [
       "(379,)"
      ]
     },
     "execution_count": 117,
     "metadata": {},
     "output_type": "execute_result"
    }
   ],
   "source": [
    "y_pred.shape"
   ]
  },
  {
   "cell_type": "code",
   "execution_count": 119,
   "id": "d0f1120b",
   "metadata": {},
   "outputs": [],
   "source": [
    "lr_probs = y_pred_proba[:,1]"
   ]
  },
  {
   "cell_type": "code",
   "execution_count": 120,
   "id": "b3a728da",
   "metadata": {},
   "outputs": [
    {
     "data": {
      "text/plain": [
       "(379,)"
      ]
     },
     "execution_count": 120,
     "metadata": {},
     "output_type": "execute_result"
    }
   ],
   "source": [
    "lr_probs.shape"
   ]
  },
  {
   "cell_type": "code",
   "execution_count": 126,
   "id": "eb4aa370",
   "metadata": {},
   "outputs": [],
   "source": [
    "from sklearn.metrics import accuracy_score, f1_score\n",
    "ac = accuracy_score(y_test,y_pred)"
   ]
  },
  {
   "cell_type": "code",
   "execution_count": 127,
   "id": "6f493301",
   "metadata": {},
   "outputs": [
    {
     "data": {
      "text/plain": [
       "0.8100263852242744"
      ]
     },
     "execution_count": 127,
     "metadata": {},
     "output_type": "execute_result"
    }
   ],
   "source": [
    "ac"
   ]
  },
  {
   "cell_type": "code",
   "execution_count": 128,
   "id": "d9365a3a",
   "metadata": {},
   "outputs": [],
   "source": [
    "f1 = f1_score(y_test, y_pred, average='weighted')"
   ]
  },
  {
   "cell_type": "code",
   "execution_count": 129,
   "id": "48fcd178",
   "metadata": {},
   "outputs": [
    {
     "data": {
      "text/plain": [
       "0.7784998698601125"
      ]
     },
     "execution_count": 129,
     "metadata": {},
     "output_type": "execute_result"
    }
   ],
   "source": [
    "f1"
   ]
  },
  {
   "cell_type": "code",
   "execution_count": 130,
   "id": "2cf7b3f5",
   "metadata": {},
   "outputs": [],
   "source": [
    "feature_importance = clf.feature_importances_"
   ]
  },
  {
   "cell_type": "code",
   "execution_count": 131,
   "id": "833842c0",
   "metadata": {},
   "outputs": [
    {
     "data": {
      "text/plain": [
       "array([3.61928751e-02, 3.62853375e-02, 9.74058719e-03, 0.00000000e+00,\n",
       "       2.00932705e-02, 3.89550382e-02, 3.02487917e-02, 3.30978808e-02,\n",
       "       3.74341515e-02, 2.44397884e-02, 1.23104528e-02, 7.12719640e-03,\n",
       "       9.70093731e-04, 1.53316812e-02, 1.22682420e-02, 2.44046580e-03,\n",
       "       1.63153367e-04, 1.49587856e-02, 2.12717780e-03, 1.01182422e-02,\n",
       "       2.44662219e-03, 7.92875326e-03, 3.44843469e-03, 1.13370586e-02,\n",
       "       1.27355684e-02, 1.94108095e-02, 2.24016112e-03, 2.79129037e-03,\n",
       "       3.23685677e-03, 1.97919626e-03, 2.13536446e-03, 1.23303706e-02,\n",
       "       1.09429256e-02, 2.37081618e-05, 3.06305557e-06, 2.21238856e-03,\n",
       "       2.66388098e-03, 2.66941184e-03, 3.58511882e-03, 4.24370642e-04,\n",
       "       2.64383087e-03, 3.18996720e-03, 7.27558540e-03, 1.77454965e-02,\n",
       "       5.41682483e-03, 3.28441180e-03, 1.27290765e-04, 9.26156499e-03,\n",
       "       1.46001570e-04, 2.04334597e-04, 6.82451114e-04, 1.89273136e-04,\n",
       "       4.07442348e-05, 1.36501453e-04, 3.93145059e-04, 1.96021723e-03,\n",
       "       3.59597061e-03, 1.63416289e-03, 9.48587426e-03, 1.27428044e-04,\n",
       "       2.31771505e-03, 1.38313516e-03, 9.08223716e-03, 1.26620035e-02,\n",
       "       5.80587288e-03, 3.14479354e-03, 6.18616431e-03, 3.69928935e-03,\n",
       "       7.12464183e-04, 4.04210822e-03, 1.39869434e-03, 3.32156238e-03,\n",
       "       0.00000000e+00, 2.56153750e-04, 4.41215648e-04, 2.01557473e-04,\n",
       "       2.20484691e-03, 2.27862134e-03, 3.36002864e-03, 1.77368679e-04,\n",
       "       0.00000000e+00, 2.56086180e-03, 3.06611885e-03, 4.05897849e-04,\n",
       "       4.27970405e-03, 5.44925347e-04, 1.44001713e-04, 2.57275028e-03,\n",
       "       0.00000000e+00, 6.49246653e-03, 7.35256556e-03, 1.13971066e-04,\n",
       "       4.71721314e-06, 6.87292379e-03, 4.07960278e-04, 5.15720998e-03,\n",
       "       1.03544078e-04, 5.55880049e-04, 2.41517061e-03, 4.18279807e-04,\n",
       "       5.86867757e-03, 2.53863387e-04, 4.54503744e-03, 4.77890674e-02,\n",
       "       3.12166690e-03, 3.29080108e-03, 8.60035868e-04, 2.99422780e-03,\n",
       "       1.82710594e-03, 1.20309608e-05, 5.00674670e-03, 4.33682098e-05,\n",
       "       3.25190859e-04, 8.40313814e-04, 7.14435940e-03, 1.63854589e-05,\n",
       "       1.56476472e-05, 1.45296104e-04, 4.12520651e-03, 1.79425548e-03,\n",
       "       4.08634804e-03, 8.31471872e-04, 2.43992938e-03, 2.20281151e-03,\n",
       "       6.15682996e-03, 7.00086364e-03, 1.09150963e-03, 6.73422121e-03,\n",
       "       3.34779281e-04, 6.72531128e-04, 5.80281786e-04, 1.18052791e-03,\n",
       "       1.22724383e-04, 2.85992164e-02, 5.81040100e-05, 7.73284877e-05,\n",
       "       4.24263763e-03, 1.14058579e-02, 4.81589078e-03, 6.79469096e-04,\n",
       "       2.13743152e-03, 2.31038613e-04, 2.17062516e-03, 1.30352837e-03,\n",
       "       0.00000000e+00, 2.81329718e-03, 2.70562683e-03, 5.88815054e-03,\n",
       "       8.95535651e-03, 2.79609053e-03, 2.58770160e-04, 1.87273312e-03,\n",
       "       3.09524752e-04, 2.28524820e-03, 4.83376795e-04, 6.85821279e-04,\n",
       "       5.48905444e-03, 9.26112475e-03, 7.39840190e-06, 1.18738948e-02,\n",
       "       2.23642630e-03, 7.08620208e-03, 1.19249212e-02, 6.27956870e-04,\n",
       "       7.36806207e-03, 3.29045588e-03, 0.00000000e+00, 1.95173507e-03,\n",
       "       1.92521361e-02, 1.42272197e-03, 3.18436631e-02, 3.30392255e-02,\n",
       "       3.91000431e-03, 3.71538499e-05, 1.86142016e-02])"
      ]
     },
     "execution_count": 131,
     "metadata": {},
     "output_type": "execute_result"
    }
   ],
   "source": [
    "feature_importance"
   ]
  },
  {
   "cell_type": "code",
   "execution_count": 145,
   "id": "7358f00a",
   "metadata": {},
   "outputs": [],
   "source": [
    "feature_importance = 100*(feature_importance/feature_importance.max())[:30]"
   ]
  },
  {
   "cell_type": "code",
   "execution_count": 155,
   "id": "a70bb235",
   "metadata": {},
   "outputs": [
    {
     "data": {
      "text/plain": [
       "array([ 92.90935603,  93.14671253,  25.00469167,   0.        ,\n",
       "        51.58067214, 100.        ,  77.65052495,  84.9643136 ,\n",
       "        96.09578946,  62.73845325,  31.6016961 ,  18.29595535,\n",
       "         2.4902908 ,  39.35737678,  31.4933384 ,   6.26482712,\n",
       "         0.41882482,  38.40013068,   5.46059739,  25.97415544,\n",
       "         6.28063095,  20.35360153,   8.85234581,  29.10293269,\n",
       "        32.69299429,  49.8287523 ,   5.75063258,   7.16541556,\n",
       "         8.30921214,   5.08071958])"
      ]
     },
     "execution_count": 155,
     "metadata": {},
     "output_type": "execute_result"
    }
   ],
   "source": [
    "100*(feature_importance/feature_importance.max())[:30]"
   ]
  },
  {
   "cell_type": "code",
   "execution_count": 146,
   "id": "19b2afee",
   "metadata": {},
   "outputs": [],
   "source": [
    "sorted_idx = np.argsort(feature_importance)[:30]"
   ]
  },
  {
   "cell_type": "code",
   "execution_count": 157,
   "id": "6baa5367",
   "metadata": {},
   "outputs": [
    {
     "data": {
      "text/plain": [
       "array([75.73463368, 75.92811374, 20.38245925,  0.        , 42.04574735,\n",
       "       81.51453946, 63.2964678 , 69.25826893, 78.33204021, 51.14096123,\n",
       "       25.75997704, 14.91386374,  2.02994907, 32.08198442, 25.67164976,\n",
       "        5.10674497,  0.34140312, 31.30168967,  4.45118081, 21.17271318,\n",
       "        5.11962739, 16.59114455,  7.21594892, 23.72312155, 26.64954373,\n",
       "       40.61767795,  4.68760166,  5.8408555 ,  6.77321601,  4.14152517])"
      ]
     },
     "execution_count": 157,
     "metadata": {},
     "output_type": "execute_result"
    }
   ],
   "source": [
    "(feature_importance)[:30]"
   ]
  },
  {
   "cell_type": "code",
   "execution_count": 158,
   "id": "4713ba37",
   "metadata": {},
   "outputs": [
    {
     "data": {
      "text/plain": [
       "array([ 3, 16, 12, 29, 18, 26, 15, 20, 27, 28, 22, 11, 21,  2, 19, 23, 14,\n",
       "       10, 24, 17, 13, 25,  4,  9,  6,  7,  0,  1,  8,  5])"
      ]
     },
     "execution_count": 158,
     "metadata": {},
     "output_type": "execute_result"
    }
   ],
   "source": [
    "np.argsort(feature_importance)[:30]"
   ]
  },
  {
   "cell_type": "code",
   "execution_count": 147,
   "id": "ab7a633b",
   "metadata": {},
   "outputs": [
    {
     "data": {
      "text/plain": [
       "array([ 3, 16, 12, 29, 18, 26, 15, 20, 27, 28, 22, 11, 21,  2, 19, 23, 14,\n",
       "       10, 24, 17, 13, 25,  4,  9,  6,  7,  0,  1,  8,  5])"
      ]
     },
     "execution_count": 147,
     "metadata": {},
     "output_type": "execute_result"
    }
   ],
   "source": [
    "sorted_idx"
   ]
  },
  {
   "cell_type": "code",
   "execution_count": 148,
   "id": "bdeef548",
   "metadata": {},
   "outputs": [
    {
     "data": {
      "text/plain": [
       "array([ 0.5,  1.5,  2.5,  3.5,  4.5,  5.5,  6.5,  7.5,  8.5,  9.5, 10.5,\n",
       "       11.5, 12.5, 13.5, 14.5, 15.5, 16.5, 17.5, 18.5, 19.5, 20.5, 21.5,\n",
       "       22.5, 23.5, 24.5, 25.5, 26.5, 27.5, 28.5, 29.5])"
      ]
     },
     "execution_count": 148,
     "metadata": {},
     "output_type": "execute_result"
    }
   ],
   "source": [
    "np.arange(sorted_idx.shape[0]) + .5"
   ]
  },
  {
   "cell_type": "code",
   "execution_count": 149,
   "id": "15dde9fe",
   "metadata": {},
   "outputs": [
    {
     "data": {
      "text/plain": [
       "30"
      ]
     },
     "execution_count": 149,
     "metadata": {},
     "output_type": "execute_result"
    }
   ],
   "source": [
    "sorted_idx.shape[0]"
   ]
  },
  {
   "cell_type": "code",
   "execution_count": 150,
   "id": "a300d2a5",
   "metadata": {},
   "outputs": [
    {
     "data": {
      "text/plain": [
       "array([ 0,  1,  2,  3,  4,  5,  6,  7,  8,  9, 10, 11, 12, 13, 14, 15, 16,\n",
       "       17, 18, 19, 20, 21, 22, 23, 24, 25, 26, 27, 28, 29])"
      ]
     },
     "execution_count": 150,
     "metadata": {},
     "output_type": "execute_result"
    }
   ],
   "source": [
    "np.arange(30)"
   ]
  },
  {
   "cell_type": "code",
   "execution_count": 151,
   "id": "0d426844",
   "metadata": {},
   "outputs": [
    {
     "name": "stdout",
     "output_type": "stream",
     "text": [
      "30\n"
     ]
    }
   ],
   "source": [
    "pos = np.arange(sorted_idx.shape[0]) + .5\n",
    "print(pos.size)"
   ]
  },
  {
   "cell_type": "code",
   "execution_count": 152,
   "id": "f904b712",
   "metadata": {},
   "outputs": [
    {
     "data": {
      "text/plain": [
       "30"
      ]
     },
     "execution_count": 152,
     "metadata": {},
     "output_type": "execute_result"
    }
   ],
   "source": [
    "sorted_idx.size"
   ]
  },
  {
   "cell_type": "code",
   "execution_count": 154,
   "id": "8f9a35b4",
   "metadata": {},
   "outputs": [
    {
     "data": {
      "image/png": "[encoded data removed]",
      "text/plain": [
       "<Figure size 720x720 with 1 Axes>"
      ]
     },
     "metadata": {
      "needs_background": "light"
     },
     "output_type": "display_data"
    }
   ],
   "source": [
    "import matplotlib.pyplot as plt\n",
    "plt.figure(figsize=(10,10))\n",
    "plt.barh(pos, feature_importance[sorted_idx], align='center')\n",
    "plt.yticks(pos, X.columns[sorted_idx])\n",
    "plt.xlabel('Relative Importance')\n",
    "plt.title('Variable Importance')\n",
    "plt.show()"
   ]
  },
  {
   "cell_type": "code",
   "execution_count": 159,
   "id": "80871ce2",
   "metadata": {},
   "outputs": [
    {
     "data": {
      "text/plain": [
       "Index(['age_100s', 'country_Thailand', 'age_90s', 'province_Jeollanam-do',\n",
       "       'province_Chungcheongbuk-do', 'province_Incheon', 'country_Mongolia',\n",
       "       'province_Daegu', 'province_Jeju-do', 'province_Jeollabuk-do',\n",
       "       'province_Gangwon-do', 'age_80s', 'province_Daejeon', 'age_0s',\n",
       "       'province_Chungcheongnam-do', 'province_Gyeonggi-do', 'country_Korea',\n",
       "       'age_70s', 'province_Gyeongsangbuk-do', 'province_Busan',\n",
       "       'country_China', 'province_Gyeongsangnam-do', 'age_10s', 'age_60s',\n",
       "       'age_30s', 'age_40s', 'sex_female', 'sex_male', 'age_50s', 'age_20s'],\n",
       "      dtype='object')"
      ]
     },
     "execution_count": 159,
     "metadata": {},
     "output_type": "execute_result"
    }
   ],
   "source": [
    "X.columns[sorted_idx]"
   ]
  },
  {
   "cell_type": "code",
   "execution_count": 160,
   "id": "20d211b3",
   "metadata": {},
   "outputs": [
    {
     "data": {
      "text/plain": [
       "Index(['sex_female', 'sex_male', 'age_0s', 'age_100s', 'age_10s', 'age_20s',\n",
       "       'age_30s', 'age_40s', 'age_50s', 'age_60s',\n",
       "       ...\n",
       "       'infection_case_Pilgrimage to Israel',\n",
       "       'infection_case_River of Grace Community Church',\n",
       "       'infection_case_Seongdong-gu APT', 'infection_case_Shincheonji Church',\n",
       "       'infection_case_Suyeong-gu Kindergarten',\n",
       "       'infection_case_contact with patient', 'infection_case_etc',\n",
       "       'infection_case_gym facility in Cheonan',\n",
       "       'infection_case_gym facility in Sejong',\n",
       "       'infection_case_overseas inflow'],\n",
       "      dtype='object', length=175)"
      ]
     },
     "execution_count": 160,
     "metadata": {},
     "output_type": "execute_result"
    }
   ],
   "source": [
    "X.columns"
   ]
  },
  {
   "cell_type": "code",
   "execution_count": 161,
   "id": "4e5a4a52",
   "metadata": {},
   "outputs": [],
   "source": [
    "class_names=['isolated','released','missing','deceased'] # name of classes"
   ]
  },
  {
   "cell_type": "code",
   "execution_count": 162,
   "id": "f635064c",
   "metadata": {},
   "outputs": [
    {
     "name": "stdout",
     "output_type": "stream",
     "text": [
      "Confusion matrix, without normalization\n",
      "[[  0   3   0]\n",
      " [  1 294  16]\n",
      " [  0  52  13]]\n",
      "Normalized confusion matrix\n",
      "[[0.   1.   0.  ]\n",
      " [0.   0.95 0.05]\n",
      " [0.   0.8  0.2 ]]\n"
     ]
    },
    {
     "data": {
      "image/png": "[encoded data removed]",
      "text/plain": [
       "<Figure size 432x288 with 2 Axes>"
      ]
     },
     "metadata": {
      "needs_background": "light"
     },
     "output_type": "display_data"
    },
    {
     "data": {
      "image/png": "[encoded data removed]",
      "text/plain": [
       "<Figure size 432x288 with 2 Axes>"
      ]
     },
     "metadata": {
      "needs_background": "light"
     },
     "output_type": "display_data"
    }
   ],
   "source": [
    "import itertools\n",
    "import numpy as np\n",
    "import matplotlib.pyplot as plt\n",
    "\n",
    "from sklearn import svm, datasets\n",
    "from sklearn.model_selection import train_test_split\n",
    "from sklearn.metrics import confusion_matrix\n",
    "\n",
    "def plot_confusion_matrix(cm, classes,\n",
    "                          normalize=False,\n",
    "                          title='Confusion matrix',\n",
    "                          cmap=plt.cm.Blues):\n",
    "    \"\"\"\n",
    "    This function prints and plots the confusion matrix.\n",
    "    Normalization can be applied by setting `normalize=True`.\n",
    "    \"\"\"\n",
    "    if normalize:\n",
    "        cm = cm.astype('float') / cm.sum(axis=1)[:, np.newaxis]\n",
    "        print(\"Normalized confusion matrix\")\n",
    "    else:\n",
    "        print('Confusion matrix, without normalization')\n",
    "\n",
    "    print(cm)\n",
    "\n",
    "    plt.imshow(cm, interpolation='nearest', cmap=cmap)\n",
    "    plt.title(title)\n",
    "    plt.colorbar()\n",
    "    tick_marks = np.arange(len(classes))\n",
    "    plt.xticks(tick_marks, classes, rotation=45)\n",
    "    plt.yticks(tick_marks, classes)\n",
    "\n",
    "    fmt = '.2f' if normalize else 'd'\n",
    "    thresh = cm.max() / 2.\n",
    "    for i, j in itertools.product(range(cm.shape[0]), range(cm.shape[1])):\n",
    "        plt.text(j, i, format(cm[i, j], fmt),\n",
    "                 horizontalalignment=\"center\",\n",
    "                 color=\"white\" if cm[i, j] > thresh else \"black\")\n",
    "\n",
    "    plt.ylabel('True label')\n",
    "    plt.xlabel('Predicted label')\n",
    "    plt.tight_layout()\n",
    "\n",
    "\n",
    "# Compute confusion matrix\n",
    "cnf_matrix = confusion_matrix(y_test, y_pred)\n",
    "np.set_printoptions(precision=2)\n",
    "\n",
    "# Plot non-normalized confusion matrix\n",
    "plt.figure()\n",
    "plot_confusion_matrix(cnf_matrix, classes=class_names,\n",
    "                      title='Confusion matrix, without normalization')\n",
    "#plt.savefig('figures/RF_cm_multi_class.png')\n",
    "\n",
    "# Plot normalized confusion matrix\n",
    "plt.figure()\n",
    "plot_confusion_matrix(cnf_matrix, classes=class_names, normalize=True,\n",
    "                      title='Normalized confusion matrix')\n",
    "#plt.savefig('figures/RF_cm_proportion_multi_class.png', bbox_inches=\"tight\")\n",
    "plt.show()"
   ]
  },
  {
   "cell_type": "code",
   "execution_count": 164,
   "id": "cdba19a6",
   "metadata": {},
   "outputs": [
    {
     "data": {
      "text/plain": [
       "array([[  0,   3,   0],\n",
       "       [  1, 294,  16],\n",
       "       [  0,  52,  13]])"
      ]
     },
     "execution_count": 164,
     "metadata": {},
     "output_type": "execute_result"
    }
   ],
   "source": [
    "cnf_matrix"
   ]
  },
  {
   "cell_type": "code",
   "execution_count": 174,
   "id": "f84e4de1",
   "metadata": {},
   "outputs": [
    {
     "data": {
      "image/png": "[encoded data removed]",
      "text/plain": [
       "<Figure size 432x288 with 1 Axes>"
      ]
     },
     "metadata": {
      "needs_background": "light"
     },
     "output_type": "display_data"
    }
   ],
   "source": [
    "classes = class_names\n",
    "plt.imshow(cnf_matrix, interpolation='nearest', cmap=plt.cm.Blues)\n",
    "tick_marks = np.arange(len(classes))\n",
    "plt.xticks(tick_marks, classes, rotation=45)\n",
    "plt.yticks(tick_marks, classes)\n",
    "thresh = cnf_matrix.max() / 2.\n",
    "for i, j in itertools.product(range(cnf_matrix.shape[0]), range(cnf_matrix.shape[1])):\n",
    "    fmt =  'd'\n",
    "    plt.text(j, i, format(cnf_matrix[i, j], fmt),\n",
    "        horizontalalignment=\"center\",\n",
    "        color=\"white\" if cnf_matrix[i, j] > thresh else \"black\")"
   ]
  },
  {
   "cell_type": "code",
   "execution_count": 183,
   "id": "ac3a3994",
   "metadata": {},
   "outputs": [
    {
     "data": {
      "text/plain": [
       "Text(1, 1, '1')"
      ]
     },
     "execution_count": 183,
     "metadata": {},
     "output_type": "execute_result"
    },
    {
     "data": {
      "image/png": "[encoded data removed]",
      "text/plain": [
       "<Figure size 432x288 with 1 Axes>"
      ]
     },
     "metadata": {
      "needs_background": "light"
     },
     "output_type": "display_data"
    }
   ],
   "source": [
    "plt.text(1, 1, format(1, fmt),horizontalalignment=\"center\",\n",
    "        color=\"white\" if 300 < thresh else \"black\")"
   ]
  },
  {
   "cell_type": "code",
   "execution_count": 181,
   "id": "b4323f47",
   "metadata": {},
   "outputs": [
    {
     "data": {
      "text/plain": [
       "147.0"
      ]
     },
     "execution_count": 181,
     "metadata": {},
     "output_type": "execute_result"
    }
   ],
   "source": [
    "thresh"
   ]
  },
  {
   "cell_type": "code",
   "execution_count": 210,
   "id": "ba62f801",
   "metadata": {},
   "outputs": [
    {
     "data": {
      "text/plain": [
       "array([[1, 2, 3],\n",
       "       [2, 3, 4],\n",
       "       [4, 5, 6]])"
      ]
     },
     "execution_count": 210,
     "metadata": {},
     "output_type": "execute_result"
    }
   ],
   "source": [
    "A = np.array([[1,2,3],[2,3,4],[4,5,6]])\n",
    "A"
   ]
  },
  {
   "cell_type": "code",
   "execution_count": 212,
   "id": "360b4775",
   "metadata": {},
   "outputs": [
    {
     "data": {
      "image/png": "[encoded data removed]",
      "text/plain": [
       "<Figure size 540x540 with 1 Axes>"
      ]
     },
     "metadata": {
      "needs_background": "light"
     },
     "output_type": "display_data"
    }
   ],
   "source": [
    "fig,ax = plt.subplots(figsize=(7.5,7.5))\n",
    "ax.matshow(A,cmap=plt.cm.Blues,alpha = 0.3)\n",
    "for i in range(A.shape[0]):\n",
    "    for j in range(A.shape[1]):\n",
    "        ax.text(x = j, y = i, s = A[i,j],va='center',ha='center',size = 'xx-large')\n",
    "ax.set(xticks=range(A.shape[0]), xticklabels=['a', 'b','c'], yticks=range(A.shape[1]), yticklabels=['c','d','e'])\n",
    "ax.xaxis.set_ticks_position('bottom')\n",
    "ax.tick_params(axis='x', labelbottom=True,labelsize = 22)\n",
    "ax.tick_params(axis='y', labelsize = 22)"
   ]
  },
  {
   "cell_type": "code",
   "execution_count": 260,
   "id": "5f43dfa6",
   "metadata": {},
   "outputs": [
    {
     "data": {
      "image/png": "[encoded data removed]",
      "text/plain": [
       "<Figure size 540x540 with 1 Axes>"
      ]
     },
     "metadata": {
      "needs_background": "light"
     },
     "output_type": "display_data"
    }
   ],
   "source": [
    "fig,ax = plt.subplots(figsize=(7.5,7.5))\n",
    "ax.matshow(cnf_matrix,cmap=plt.cm.Blues)\n",
    "for i in range(cnf_matrix.shape[0]):\n",
    "    for j in range(cnf_matrix.shape[1]):\n",
    "        ax.text(x = j, y = i, s = cnf_matrix[i,j],va='center',ha='center',size = 'xx-large')\n",
    "#ax.set(xticks=range(cnf_matrix.shape[0]), xticklabels=classes, yticks=range(cnf_matrix.shape[1]), yticklabels=classes)\n",
    "#ax.xaxis.set_ticks_position('bottom')\n",
    "ax.tick_params(axis='x',labelbottom=True, labelsize = 22)\n",
    "ax.tick_params(axis='y', labelsize = 22)\n",
    "tick_marks = np.arange(len(classes))\n",
    "#tick_marks = range(cnf_matrix.shape[0]+1)\n",
    "plt.xticks(tick_marks, classes, rotation=45)\n",
    "plt.yticks(tick_marks, classes);"
   ]
  },
  {
   "cell_type": "code",
   "execution_count": 216,
   "id": "a5bd09dc",
   "metadata": {},
   "outputs": [
    {
     "data": {
      "text/plain": [
       "['isolated', 'released', 'missing', 'deceased']"
      ]
     },
     "execution_count": 216,
     "metadata": {},
     "output_type": "execute_result"
    }
   ],
   "source": [
    "classes"
   ]
  },
  {
   "cell_type": "code",
   "execution_count": 225,
   "id": "2466b22d",
   "metadata": {},
   "outputs": [],
   "source": [
    "b = np.arange(len(classes))"
   ]
  },
  {
   "cell_type": "code",
   "execution_count": 226,
   "id": "a435bc82",
   "metadata": {},
   "outputs": [
    {
     "data": {
      "text/plain": [
       "array([0, 1, 2, 3])"
      ]
     },
     "execution_count": 226,
     "metadata": {},
     "output_type": "execute_result"
    }
   ],
   "source": [
    "b"
   ]
  },
  {
   "cell_type": "code",
   "execution_count": 221,
   "id": "35ab6b5f",
   "metadata": {},
   "outputs": [
    {
     "data": {
      "text/plain": [
       "4"
      ]
     },
     "execution_count": 221,
     "metadata": {},
     "output_type": "execute_result"
    }
   ],
   "source": [
    "len(classes)"
   ]
  },
  {
   "cell_type": "code",
   "execution_count": 240,
   "id": "84fca384",
   "metadata": {},
   "outputs": [],
   "source": [
    "c = np.arange(len(classes))"
   ]
  },
  {
   "cell_type": "code",
   "execution_count": 241,
   "id": "bc7b6270",
   "metadata": {},
   "outputs": [
    {
     "data": {
      "text/plain": [
       "array([0, 1, 2, 3])"
      ]
     },
     "execution_count": 241,
     "metadata": {},
     "output_type": "execute_result"
    }
   ],
   "source": [
    "c"
   ]
  },
  {
   "cell_type": "code",
   "execution_count": 242,
   "id": "a3466f0d",
   "metadata": {},
   "outputs": [
    {
     "data": {
      "text/plain": [
       "1"
      ]
     },
     "execution_count": 242,
     "metadata": {},
     "output_type": "execute_result"
    }
   ],
   "source": [
    "c[1]"
   ]
  },
  {
   "cell_type": "code",
   "execution_count": 253,
   "id": "5354fefb",
   "metadata": {},
   "outputs": [],
   "source": [
    "tick_marks = np.arange(len(classes))\n",
    "#tick_marks = range(cnf_matrix.shape[0])"
   ]
  },
  {
   "cell_type": "code",
   "execution_count": 244,
   "id": "bfa2a9aa",
   "metadata": {},
   "outputs": [
    {
     "data": {
      "text/plain": [
       "array([0, 1, 2, 3])"
      ]
     },
     "execution_count": 244,
     "metadata": {},
     "output_type": "execute_result"
    }
   ],
   "source": [
    "tick_marks"
   ]
  },
  {
   "cell_type": "code",
   "execution_count": 245,
   "id": "84e0c593",
   "metadata": {},
   "outputs": [],
   "source": [
    "tick_marks = range(cnf_matrix.shape[0])"
   ]
  },
  {
   "cell_type": "code",
   "execution_count": 246,
   "id": "0f37fb72",
   "metadata": {},
   "outputs": [
    {
     "data": {
      "text/plain": [
       "range(0, 3)"
      ]
     },
     "execution_count": 246,
     "metadata": {},
     "output_type": "execute_result"
    }
   ],
   "source": [
    "tick_marks"
   ]
  },
  {
   "cell_type": "code",
   "execution_count": 255,
   "id": "0019724e",
   "metadata": {},
   "outputs": [
    {
     "data": {
      "text/plain": [
       "3"
      ]
     },
     "execution_count": 255,
     "metadata": {},
     "output_type": "execute_result"
    }
   ],
   "source": [
    "tick_marks[3]"
   ]
  },
  {
   "cell_type": "code",
   "execution_count": 256,
   "id": "88fc0777",
   "metadata": {},
   "outputs": [
    {
     "data": {
      "text/plain": [
       "3"
      ]
     },
     "execution_count": 256,
     "metadata": {},
     "output_type": "execute_result"
    }
   ],
   "source": [
    "cnf_matrix.shape[0]"
   ]
  },
  {
   "cell_type": "code",
   "execution_count": null,
   "id": "90299bac",
   "metadata": {},
   "outputs": [],
   "source": []
  }
 ],
 "metadata": {
  "kernelspec": {
   "display_name": "Python 3 (ipykernel)",
   "language": "python",
   "name": "python3"
  },
  "language_info": {
   "codemirror_mode": {
    "name": "ipython",
    "version": 3
   },
   "file_extension": ".py",
   "mimetype": "text/x-python",
   "name": "python",
   "nbconvert_exporter": "python",
   "pygments_lexer": "ipython3",
   "version": "3.9.12"
  }
 },
 "nbformat": 4,
 "nbformat_minor": 5
}
